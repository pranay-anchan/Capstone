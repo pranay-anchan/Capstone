{
 "cells": [
  {
   "cell_type": "code",
   "execution_count": 1,
   "metadata": {
    "ExecuteTime": {
     "end_time": "2019-04-28T14:40:14.369709Z",
     "start_time": "2019-04-28T14:40:11.177209Z"
    }
   },
   "outputs": [
    {
     "name": "stdout",
     "output_type": "stream",
     "text": [
      "Populating the interactive namespace from numpy and matplotlib\n"
     ]
    },
    {
     "name": "stderr",
     "output_type": "stream",
     "text": [
      "C:\\ProgramData\\Anaconda3\\lib\\site-packages\\IPython\\core\\magics\\pylab.py:160: UserWarning: pylab import has clobbered these variables: ['plt']\n",
      "`%matplotlib` prevents importing * from pylab and numpy\n",
      "  \"\\n`%matplotlib` prevents importing * from pylab and numpy\"\n"
     ]
    }
   ],
   "source": [
    "import os\n",
    "import zipfile\n",
    "import urllib\n",
    "\n",
    "import numpy as np\n",
    "import pandas as pd\n",
    "import geopandas as gpd\n",
    "import shapely\n",
    "from fiona.crs import from_epsg\n",
    "\n",
    "import statsmodels.api as sm\n",
    "import statsmodels.formula.api as smf\n",
    "\n",
    "from sklearn.ensemble  import RandomForestClassifier as rfc\n",
    "#from sklearn.model_selection import train_test_split\n",
    "from sklearn.metrics import confusion_matrix\n",
    "from sklearn.metrics import classification_report\n",
    "\n",
    "from sklearn.cluster import KMeans\n",
    "from sklearn.cluster import AgglomerativeClustering\n",
    "from sklearn.metrics import silhouette_score\n",
    "\n",
    "import pylab as pl\n",
    "import matplotlib.pylab as plt\n",
    "\n",
    "pl.rcParams['font.size'] = 20\n",
    "%pylab inline\n",
    "%matplotlib inline"
   ]
  },
  {
   "cell_type": "markdown",
   "metadata": {},
   "source": [
    "# data"
   ]
  },
  {
   "cell_type": "markdown",
   "metadata": {},
   "source": [
    "## UberLyft & ticket"
   ]
  },
  {
   "cell_type": "code",
   "execution_count": 2,
   "metadata": {
    "ExecuteTime": {
     "end_time": "2019-04-28T14:40:14.788551Z",
     "start_time": "2019-04-28T14:40:14.371667Z"
    }
   },
   "outputs": [
    {
     "name": "stdout",
     "output_type": "stream",
     "text": [
      "(333768, 5)\n"
     ]
    },
    {
     "data": {
      "text/html": [
       "<div>\n",
       "<style scoped>\n",
       "    .dataframe tbody tr th:only-of-type {\n",
       "        vertical-align: middle;\n",
       "    }\n",
       "\n",
       "    .dataframe tbody tr th {\n",
       "        vertical-align: top;\n",
       "    }\n",
       "\n",
       "    .dataframe thead th {\n",
       "        text-align: right;\n",
       "    }\n",
       "</style>\n",
       "<table border=\"1\" class=\"dataframe\">\n",
       "  <thead>\n",
       "    <tr style=\"text-align: right;\">\n",
       "      <th></th>\n",
       "      <th>date</th>\n",
       "      <th>zone</th>\n",
       "      <th>pickup</th>\n",
       "      <th>dropoff</th>\n",
       "      <th>tickets</th>\n",
       "    </tr>\n",
       "  </thead>\n",
       "  <tbody>\n",
       "    <tr>\n",
       "      <th>0</th>\n",
       "      <td>2015-01-01</td>\n",
       "      <td>0.0</td>\n",
       "      <td>28.0</td>\n",
       "      <td>48715.0</td>\n",
       "      <td>0.0</td>\n",
       "    </tr>\n",
       "    <tr>\n",
       "      <th>1</th>\n",
       "      <td>2015-01-01</td>\n",
       "      <td>1.0</td>\n",
       "      <td>1.0</td>\n",
       "      <td>0.0</td>\n",
       "      <td>10.0</td>\n",
       "    </tr>\n",
       "    <tr>\n",
       "      <th>2</th>\n",
       "      <td>2015-01-01</td>\n",
       "      <td>3.0</td>\n",
       "      <td>9.0</td>\n",
       "      <td>0.0</td>\n",
       "      <td>0.0</td>\n",
       "    </tr>\n",
       "    <tr>\n",
       "      <th>3</th>\n",
       "      <td>2015-01-01</td>\n",
       "      <td>4.0</td>\n",
       "      <td>411.0</td>\n",
       "      <td>0.0</td>\n",
       "      <td>43.0</td>\n",
       "    </tr>\n",
       "    <tr>\n",
       "      <th>4</th>\n",
       "      <td>2015-01-01</td>\n",
       "      <td>6.0</td>\n",
       "      <td>2.0</td>\n",
       "      <td>0.0</td>\n",
       "      <td>22.0</td>\n",
       "    </tr>\n",
       "  </tbody>\n",
       "</table>\n",
       "</div>"
      ],
      "text/plain": [
       "        date  zone  pickup  dropoff  tickets\n",
       "0 2015-01-01   0.0    28.0  48715.0      0.0\n",
       "1 2015-01-01   1.0     1.0      0.0     10.0\n",
       "2 2015-01-01   3.0     9.0      0.0      0.0\n",
       "3 2015-01-01   4.0   411.0      0.0     43.0\n",
       "4 2015-01-01   6.0     2.0      0.0     22.0"
      ]
     },
     "execution_count": 2,
     "metadata": {},
     "output_type": "execute_result"
    }
   ],
   "source": [
    "df = pd.read_csv('output_final/data_final.csv')\n",
    "df[\"date\"] = pd.to_datetime(df[\"date\"],format='%Y-%m-%d')\n",
    "print(df.shape)\n",
    "df.head()"
   ]
  },
  {
   "cell_type": "code",
   "execution_count": 3,
   "metadata": {
    "ExecuteTime": {
     "end_time": "2019-04-28T14:40:14.804509Z",
     "start_time": "2019-04-28T14:40:14.790547Z"
    }
   },
   "outputs": [
    {
     "data": {
      "text/html": [
       "<div>\n",
       "<style scoped>\n",
       "    .dataframe tbody tr th:only-of-type {\n",
       "        vertical-align: middle;\n",
       "    }\n",
       "\n",
       "    .dataframe tbody tr th {\n",
       "        vertical-align: top;\n",
       "    }\n",
       "\n",
       "    .dataframe thead th {\n",
       "        text-align: right;\n",
       "    }\n",
       "</style>\n",
       "<table border=\"1\" class=\"dataframe\">\n",
       "  <thead>\n",
       "    <tr style=\"text-align: right;\">\n",
       "      <th></th>\n",
       "      <th>date</th>\n",
       "      <th>zone</th>\n",
       "      <th>pickup</th>\n",
       "      <th>dropoff</th>\n",
       "      <th>tickets</th>\n",
       "    </tr>\n",
       "  </thead>\n",
       "  <tbody>\n",
       "    <tr>\n",
       "      <th>333763</th>\n",
       "      <td>2018-06-28</td>\n",
       "      <td>199.0</td>\n",
       "      <td>0.0</td>\n",
       "      <td>0.0</td>\n",
       "      <td>37.0</td>\n",
       "    </tr>\n",
       "    <tr>\n",
       "      <th>333764</th>\n",
       "      <td>2018-06-29</td>\n",
       "      <td>105.0</td>\n",
       "      <td>0.0</td>\n",
       "      <td>0.0</td>\n",
       "      <td>72.0</td>\n",
       "    </tr>\n",
       "    <tr>\n",
       "      <th>333765</th>\n",
       "      <td>2018-06-29</td>\n",
       "      <td>199.0</td>\n",
       "      <td>0.0</td>\n",
       "      <td>0.0</td>\n",
       "      <td>28.0</td>\n",
       "    </tr>\n",
       "    <tr>\n",
       "      <th>333766</th>\n",
       "      <td>2018-06-30</td>\n",
       "      <td>105.0</td>\n",
       "      <td>0.0</td>\n",
       "      <td>0.0</td>\n",
       "      <td>14.0</td>\n",
       "    </tr>\n",
       "    <tr>\n",
       "      <th>333767</th>\n",
       "      <td>2018-06-30</td>\n",
       "      <td>199.0</td>\n",
       "      <td>0.0</td>\n",
       "      <td>0.0</td>\n",
       "      <td>19.0</td>\n",
       "    </tr>\n",
       "  </tbody>\n",
       "</table>\n",
       "</div>"
      ],
      "text/plain": [
       "             date   zone  pickup  dropoff  tickets\n",
       "333763 2018-06-28  199.0     0.0      0.0     37.0\n",
       "333764 2018-06-29  105.0     0.0      0.0     72.0\n",
       "333765 2018-06-29  199.0     0.0      0.0     28.0\n",
       "333766 2018-06-30  105.0     0.0      0.0     14.0\n",
       "333767 2018-06-30  199.0     0.0      0.0     19.0"
      ]
     },
     "execution_count": 3,
     "metadata": {},
     "output_type": "execute_result"
    }
   ],
   "source": [
    "df.tail()"
   ]
  },
  {
   "cell_type": "code",
   "execution_count": 4,
   "metadata": {
    "ExecuteTime": {
     "end_time": "2019-04-28T14:40:14.848392Z",
     "start_time": "2019-04-28T14:40:14.807501Z"
    }
   },
   "outputs": [],
   "source": [
    "df = df.groupby('date').sum()[['pickup', 'tickets']]"
   ]
  },
  {
   "cell_type": "markdown",
   "metadata": {},
   "source": [
    "### date range"
   ]
  },
  {
   "cell_type": "code",
   "execution_count": 5,
   "metadata": {
    "ExecuteTime": {
     "end_time": "2019-04-28T14:40:14.859362Z",
     "start_time": "2019-04-28T14:40:14.851384Z"
    }
   },
   "outputs": [],
   "source": [
    "date_range = pd.date_range('01/01/2015', '06/30/2018', freq='D' )"
   ]
  },
  {
   "cell_type": "code",
   "execution_count": 6,
   "metadata": {
    "ExecuteTime": {
     "end_time": "2019-04-28T14:40:14.873326Z",
     "start_time": "2019-04-28T14:40:14.861357Z"
    }
   },
   "outputs": [
    {
     "data": {
      "text/plain": [
       "1277"
      ]
     },
     "execution_count": 6,
     "metadata": {},
     "output_type": "execute_result"
    }
   ],
   "source": [
    "len(date_range)"
   ]
  },
  {
   "cell_type": "markdown",
   "metadata": {},
   "source": [
    "## Population & employment & commercial facilities"
   ]
  },
  {
   "cell_type": "code",
   "execution_count": null,
   "metadata": {},
   "outputs": [],
   "source": []
  },
  {
   "cell_type": "code",
   "execution_count": null,
   "metadata": {},
   "outputs": [],
   "source": []
  },
  {
   "cell_type": "markdown",
   "metadata": {},
   "source": [
    "## Weather data"
   ]
  },
  {
   "cell_type": "code",
   "execution_count": 7,
   "metadata": {
    "ExecuteTime": {
     "end_time": "2019-04-28T14:40:14.965080Z",
     "start_time": "2019-04-28T14:40:14.875320Z"
    }
   },
   "outputs": [
    {
     "name": "stdout",
     "output_type": "stream",
     "text": [
      "(1277, 4)\n"
     ]
    },
    {
     "data": {
      "text/html": [
       "<div>\n",
       "<style scoped>\n",
       "    .dataframe tbody tr th:only-of-type {\n",
       "        vertical-align: middle;\n",
       "    }\n",
       "\n",
       "    .dataframe tbody tr th {\n",
       "        vertical-align: top;\n",
       "    }\n",
       "\n",
       "    .dataframe thead th {\n",
       "        text-align: right;\n",
       "    }\n",
       "</style>\n",
       "<table border=\"1\" class=\"dataframe\">\n",
       "  <thead>\n",
       "    <tr style=\"text-align: right;\">\n",
       "      <th></th>\n",
       "      <th>WindSpeed</th>\n",
       "      <th>Precipitation</th>\n",
       "      <th>Snow</th>\n",
       "      <th>Temperature</th>\n",
       "    </tr>\n",
       "  </thead>\n",
       "  <tbody>\n",
       "    <tr>\n",
       "      <th>2015-01-01</th>\n",
       "      <td>7.16</td>\n",
       "      <td>0.00</td>\n",
       "      <td>0.0</td>\n",
       "      <td>33.0</td>\n",
       "    </tr>\n",
       "    <tr>\n",
       "      <th>2015-01-02</th>\n",
       "      <td>7.16</td>\n",
       "      <td>0.00</td>\n",
       "      <td>0.0</td>\n",
       "      <td>38.5</td>\n",
       "    </tr>\n",
       "    <tr>\n",
       "      <th>2015-01-03</th>\n",
       "      <td>6.49</td>\n",
       "      <td>0.71</td>\n",
       "      <td>0.0</td>\n",
       "      <td>37.5</td>\n",
       "    </tr>\n",
       "    <tr>\n",
       "      <th>2015-01-04</th>\n",
       "      <td>6.49</td>\n",
       "      <td>0.30</td>\n",
       "      <td>0.0</td>\n",
       "      <td>48.5</td>\n",
       "    </tr>\n",
       "    <tr>\n",
       "      <th>2015-01-05</th>\n",
       "      <td>10.51</td>\n",
       "      <td>0.00</td>\n",
       "      <td>0.0</td>\n",
       "      <td>35.0</td>\n",
       "    </tr>\n",
       "  </tbody>\n",
       "</table>\n",
       "</div>"
      ],
      "text/plain": [
       "            WindSpeed  Precipitation  Snow  Temperature\n",
       "2015-01-01       7.16           0.00   0.0         33.0\n",
       "2015-01-02       7.16           0.00   0.0         38.5\n",
       "2015-01-03       6.49           0.71   0.0         37.5\n",
       "2015-01-04       6.49           0.30   0.0         48.5\n",
       "2015-01-05      10.51           0.00   0.0         35.0"
      ]
     },
     "execution_count": 7,
     "metadata": {},
     "output_type": "execute_result"
    }
   ],
   "source": [
    "nycweather = pd.read_csv('nycweather_2014_2018.csv')[['DATE', 'AWND', 'PRCP', 'SNOW', 'TMAX', 'TMIN']]\n",
    "nycweather['TAVG'] = nycweather[['TMAX', 'TMIN']].mean(axis=1)\n",
    "nycweather = nycweather[nycweather[nycweather['DATE']=='2015-01-01'].index[0] : nycweather[nycweather['DATE']=='2018-06-30'].index[0]+1]\n",
    "nycweather.reset_index(drop=True, inplace=True)\n",
    "nycweather = nycweather.sort_values('DATE')\n",
    "nycweather.index = date_range\n",
    "nycweather.drop(['TMAX', 'TMIN', 'DATE'], axis=1, inplace=True)\n",
    "nycweather.columns = ['WindSpeed', 'Precipitation', 'Snow', 'Temperature']\n",
    "print(nycweather.shape)\n",
    "nycweather.head()"
   ]
  },
  {
   "cell_type": "code",
   "execution_count": 8,
   "metadata": {
    "ExecuteTime": {
     "end_time": "2019-04-28T14:40:14.975089Z",
     "start_time": "2019-04-28T14:40:14.967079Z"
    }
   },
   "outputs": [
    {
     "data": {
      "text/html": [
       "<div>\n",
       "<style scoped>\n",
       "    .dataframe tbody tr th:only-of-type {\n",
       "        vertical-align: middle;\n",
       "    }\n",
       "\n",
       "    .dataframe tbody tr th {\n",
       "        vertical-align: top;\n",
       "    }\n",
       "\n",
       "    .dataframe thead th {\n",
       "        text-align: right;\n",
       "    }\n",
       "</style>\n",
       "<table border=\"1\" class=\"dataframe\">\n",
       "  <thead>\n",
       "    <tr style=\"text-align: right;\">\n",
       "      <th></th>\n",
       "      <th>WindSpeed</th>\n",
       "      <th>Precipitation</th>\n",
       "      <th>Snow</th>\n",
       "      <th>Temperature</th>\n",
       "    </tr>\n",
       "  </thead>\n",
       "  <tbody>\n",
       "    <tr>\n",
       "      <th>2018-06-26</th>\n",
       "      <td>3.80</td>\n",
       "      <td>0.00</td>\n",
       "      <td>0.0</td>\n",
       "      <td>69.5</td>\n",
       "    </tr>\n",
       "    <tr>\n",
       "      <th>2018-06-27</th>\n",
       "      <td>3.58</td>\n",
       "      <td>0.01</td>\n",
       "      <td>0.0</td>\n",
       "      <td>69.5</td>\n",
       "    </tr>\n",
       "    <tr>\n",
       "      <th>2018-06-28</th>\n",
       "      <td>2.91</td>\n",
       "      <td>1.36</td>\n",
       "      <td>0.0</td>\n",
       "      <td>76.5</td>\n",
       "    </tr>\n",
       "    <tr>\n",
       "      <th>2018-06-29</th>\n",
       "      <td>2.68</td>\n",
       "      <td>0.00</td>\n",
       "      <td>0.0</td>\n",
       "      <td>79.5</td>\n",
       "    </tr>\n",
       "    <tr>\n",
       "      <th>2018-06-30</th>\n",
       "      <td>2.24</td>\n",
       "      <td>0.00</td>\n",
       "      <td>0.0</td>\n",
       "      <td>82.5</td>\n",
       "    </tr>\n",
       "  </tbody>\n",
       "</table>\n",
       "</div>"
      ],
      "text/plain": [
       "            WindSpeed  Precipitation  Snow  Temperature\n",
       "2018-06-26       3.80           0.00   0.0         69.5\n",
       "2018-06-27       3.58           0.01   0.0         69.5\n",
       "2018-06-28       2.91           1.36   0.0         76.5\n",
       "2018-06-29       2.68           0.00   0.0         79.5\n",
       "2018-06-30       2.24           0.00   0.0         82.5"
      ]
     },
     "execution_count": 8,
     "metadata": {},
     "output_type": "execute_result"
    }
   ],
   "source": [
    "nycweather.tail()"
   ]
  },
  {
   "cell_type": "code",
   "execution_count": 9,
   "metadata": {
    "ExecuteTime": {
     "end_time": "2019-04-28T14:40:15.516606Z",
     "start_time": "2019-04-28T14:40:14.977048Z"
    }
   },
   "outputs": [
    {
     "data": {
      "image/png": "[encoded data removed]",
      "text/plain": [
       "<Figure size 1080x1080 with 4 Axes>"
      ]
     },
     "metadata": {
      "needs_background": "light"
     },
     "output_type": "display_data"
    }
   ],
   "source": [
    "fig = plt.figure(figsize=(15,15))\n",
    "for i in range(nycweather.shape[1]):\n",
    "    ax = fig.add_subplot(4,2,i+1)\n",
    "    ax.plot(range(nycweather.shape[0]), nycweather[nycweather.columns[i]], '-', linewidth=0.8)\n",
    "    ax.set_ylabel(nycweather.columns[i], fontsize=14)"
   ]
  },
  {
   "cell_type": "markdown",
   "metadata": {},
   "source": [
    "##  Holiday \n",
    "**Whether the day is holiday**"
   ]
  },
  {
   "cell_type": "code",
   "execution_count": 10,
   "metadata": {
    "ExecuteTime": {
     "end_time": "2019-04-28T14:40:15.566508Z",
     "start_time": "2019-04-28T14:40:15.517603Z"
    }
   },
   "outputs": [
    {
     "data": {
      "text/plain": [
       "DatetimeIndex(['2015-01-01', '2015-01-19', '2015-02-16', '2015-05-25',\n",
       "               '2015-07-03', '2015-09-07', '2015-10-12', '2015-11-11',\n",
       "               '2015-11-26', '2015-12-25', '2016-01-01', '2016-01-18',\n",
       "               '2016-02-15', '2016-05-30', '2016-07-04', '2016-09-05',\n",
       "               '2016-10-10', '2016-11-11', '2016-11-24', '2016-12-26',\n",
       "               '2017-01-02', '2017-01-16', '2017-02-20', '2017-05-29',\n",
       "               '2017-07-04', '2017-09-04', '2017-10-09', '2017-11-10',\n",
       "               '2017-11-23', '2017-12-25', '2018-01-01', '2018-01-15',\n",
       "               '2018-02-19', '2018-05-28'],\n",
       "              dtype='datetime64[ns]', freq=None)"
      ]
     },
     "execution_count": 10,
     "metadata": {},
     "output_type": "execute_result"
    }
   ],
   "source": [
    "# Generate a list of holidays over this period\n",
    "from pandas.tseries.holiday import USFederalHolidayCalendar\n",
    "calendar = USFederalHolidayCalendar()\n",
    "holidays_all = calendar.holidays(date_range[0], date_range[len(date_range)-1])\n",
    "holidays_all"
   ]
  },
  {
   "cell_type": "code",
   "execution_count": 11,
   "metadata": {
    "ExecuteTime": {
     "end_time": "2019-04-28T14:40:15.572486Z",
     "start_time": "2019-04-28T14:40:15.567469Z"
    }
   },
   "outputs": [
    {
     "name": "stdout",
     "output_type": "stream",
     "text": [
      "2015-01-03 00:00:00\n"
     ]
    },
    {
     "data": {
      "text/plain": [
       "DatetimeIndex([], dtype='datetime64[ns]', freq=None)"
      ]
     },
     "execution_count": 11,
     "metadata": {},
     "output_type": "execute_result"
    }
   ],
   "source": [
    "print(date_range[2])\n",
    "calendar.holidays(date_range[1], date_range[2])"
   ]
  },
  {
   "cell_type": "code",
   "execution_count": 12,
   "metadata": {
    "ExecuteTime": {
     "end_time": "2019-04-28T14:40:15.783922Z",
     "start_time": "2019-04-28T14:40:15.573453Z"
    }
   },
   "outputs": [],
   "source": [
    "holidays = []\n",
    "for i in range(len(date_range)):\n",
    "    holidays.append(len(calendar.holidays(date_range[i-1], date_range[i])))"
   ]
  },
  {
   "cell_type": "code",
   "execution_count": 13,
   "metadata": {
    "ExecuteTime": {
     "end_time": "2019-04-28T14:40:15.802840Z",
     "start_time": "2019-04-28T14:40:15.784887Z"
    }
   },
   "outputs": [
    {
     "name": "stdout",
     "output_type": "stream",
     "text": [
      "(1277, 1)\n"
     ]
    },
    {
     "data": {
      "text/html": [
       "<div>\n",
       "<style scoped>\n",
       "    .dataframe tbody tr th:only-of-type {\n",
       "        vertical-align: middle;\n",
       "    }\n",
       "\n",
       "    .dataframe tbody tr th {\n",
       "        vertical-align: top;\n",
       "    }\n",
       "\n",
       "    .dataframe thead th {\n",
       "        text-align: right;\n",
       "    }\n",
       "</style>\n",
       "<table border=\"1\" class=\"dataframe\">\n",
       "  <thead>\n",
       "    <tr style=\"text-align: right;\">\n",
       "      <th></th>\n",
       "      <th>holidays</th>\n",
       "    </tr>\n",
       "  </thead>\n",
       "  <tbody>\n",
       "    <tr>\n",
       "      <th>2015-01-01</th>\n",
       "      <td>0</td>\n",
       "    </tr>\n",
       "    <tr>\n",
       "      <th>2015-01-02</th>\n",
       "      <td>1</td>\n",
       "    </tr>\n",
       "    <tr>\n",
       "      <th>2015-01-03</th>\n",
       "      <td>0</td>\n",
       "    </tr>\n",
       "    <tr>\n",
       "      <th>2015-01-04</th>\n",
       "      <td>0</td>\n",
       "    </tr>\n",
       "    <tr>\n",
       "      <th>2015-01-05</th>\n",
       "      <td>0</td>\n",
       "    </tr>\n",
       "  </tbody>\n",
       "</table>\n",
       "</div>"
      ],
      "text/plain": [
       "            holidays\n",
       "2015-01-01         0\n",
       "2015-01-02         1\n",
       "2015-01-03         0\n",
       "2015-01-04         0\n",
       "2015-01-05         0"
      ]
     },
     "execution_count": 13,
     "metadata": {},
     "output_type": "execute_result"
    }
   ],
   "source": [
    "holidays = pd.DataFrame(holidays)\n",
    "holidays.index = date_range\n",
    "holidays.columns = ['holidays']\n",
    "print(holidays.shape)\n",
    "holidays.head()"
   ]
  },
  {
   "cell_type": "markdown",
   "metadata": {},
   "source": [
    "## Weekdays \n",
    "**Whether the day is weekday**<br>\n",
    "refer to https://cloud.tencent.com/developer/ask/176278"
   ]
  },
  {
   "cell_type": "code",
   "execution_count": 14,
   "metadata": {
    "ExecuteTime": {
     "end_time": "2019-04-28T14:40:15.811850Z",
     "start_time": "2019-04-28T14:40:15.803837Z"
    }
   },
   "outputs": [],
   "source": [
    "holiday_date_list = holidays_all.date.tolist()"
   ]
  },
  {
   "cell_type": "code",
   "execution_count": 15,
   "metadata": {
    "ExecuteTime": {
     "end_time": "2019-04-28T14:40:15.824785Z",
     "start_time": "2019-04-28T14:40:15.812813Z"
    }
   },
   "outputs": [
    {
     "data": {
      "text/plain": [
       "878"
      ]
     },
     "execution_count": 15,
     "metadata": {},
     "output_type": "execute_result"
    }
   ],
   "source": [
    "np.busday_count(date_range[0].date(), date_range[len(date_range)-1].date(), holidays = holiday_date_list)"
   ]
  },
  {
   "cell_type": "code",
   "execution_count": 16,
   "metadata": {
    "ExecuteTime": {
     "end_time": "2019-04-28T14:40:15.838745Z",
     "start_time": "2019-04-28T14:40:15.826779Z"
    }
   },
   "outputs": [
    {
     "data": {
      "text/plain": [
       "7"
      ]
     },
     "execution_count": 16,
     "metadata": {},
     "output_type": "execute_result"
    }
   ],
   "source": [
    "np.busday_count(date_range[0].date(), date_range[12].date(), holidays = holiday_date_list)"
   ]
  },
  {
   "cell_type": "code",
   "execution_count": 17,
   "metadata": {
    "ExecuteTime": {
     "end_time": "2019-04-28T14:40:15.968423Z",
     "start_time": "2019-04-28T14:40:15.840738Z"
    }
   },
   "outputs": [],
   "source": [
    "weekdays = []\n",
    "for i in range(len(date_range)):\n",
    "    weekdays.append(np.busday_count(date_range[i-1].date(), date_range[i].date(), holidays = holiday_date_list))\n",
    "weekdays[0] = weekdays[12]"
   ]
  },
  {
   "cell_type": "code",
   "execution_count": 18,
   "metadata": {
    "ExecuteTime": {
     "end_time": "2019-04-28T14:40:15.990380Z",
     "start_time": "2019-04-28T14:40:15.973384Z"
    }
   },
   "outputs": [
    {
     "name": "stdout",
     "output_type": "stream",
     "text": [
      "(1277, 1)\n"
     ]
    },
    {
     "data": {
      "text/html": [
       "<div>\n",
       "<style scoped>\n",
       "    .dataframe tbody tr th:only-of-type {\n",
       "        vertical-align: middle;\n",
       "    }\n",
       "\n",
       "    .dataframe tbody tr th {\n",
       "        vertical-align: top;\n",
       "    }\n",
       "\n",
       "    .dataframe thead th {\n",
       "        text-align: right;\n",
       "    }\n",
       "</style>\n",
       "<table border=\"1\" class=\"dataframe\">\n",
       "  <thead>\n",
       "    <tr style=\"text-align: right;\">\n",
       "      <th></th>\n",
       "      <th>weekdays</th>\n",
       "    </tr>\n",
       "  </thead>\n",
       "  <tbody>\n",
       "    <tr>\n",
       "      <th>2015-01-01</th>\n",
       "      <td>1</td>\n",
       "    </tr>\n",
       "    <tr>\n",
       "      <th>2015-01-02</th>\n",
       "      <td>0</td>\n",
       "    </tr>\n",
       "    <tr>\n",
       "      <th>2015-01-03</th>\n",
       "      <td>1</td>\n",
       "    </tr>\n",
       "    <tr>\n",
       "      <th>2015-01-04</th>\n",
       "      <td>0</td>\n",
       "    </tr>\n",
       "    <tr>\n",
       "      <th>2015-01-05</th>\n",
       "      <td>0</td>\n",
       "    </tr>\n",
       "  </tbody>\n",
       "</table>\n",
       "</div>"
      ],
      "text/plain": [
       "            weekdays\n",
       "2015-01-01         1\n",
       "2015-01-02         0\n",
       "2015-01-03         1\n",
       "2015-01-04         0\n",
       "2015-01-05         0"
      ]
     },
     "execution_count": 18,
     "metadata": {},
     "output_type": "execute_result"
    }
   ],
   "source": [
    "weekdays = pd.DataFrame(weekdays)\n",
    "weekdays.index = date_range\n",
    "weekdays.columns = ['weekdays']\n",
    "print(weekdays.shape)\n",
    "weekdays.head()"
   ]
  },
  {
   "cell_type": "markdown",
   "metadata": {},
   "source": [
    "## Events data (Missing)\n",
    "**number & magnitude of events in the date**"
   ]
  },
  {
   "cell_type": "code",
   "execution_count": null,
   "metadata": {},
   "outputs": [],
   "source": []
  },
  {
   "cell_type": "markdown",
   "metadata": {},
   "source": [
    "## Merge"
   ]
  },
  {
   "cell_type": "code",
   "execution_count": 19,
   "metadata": {
    "ExecuteTime": {
     "end_time": "2019-04-28T14:40:16.015272Z",
     "start_time": "2019-04-28T14:40:15.992333Z"
    }
   },
   "outputs": [
    {
     "name": "stdout",
     "output_type": "stream",
     "text": [
      "(1277, 7)\n"
     ]
    },
    {
     "data": {
      "text/html": [
       "<div>\n",
       "<style scoped>\n",
       "    .dataframe tbody tr th:only-of-type {\n",
       "        vertical-align: middle;\n",
       "    }\n",
       "\n",
       "    .dataframe tbody tr th {\n",
       "        vertical-align: top;\n",
       "    }\n",
       "\n",
       "    .dataframe thead th {\n",
       "        text-align: right;\n",
       "    }\n",
       "</style>\n",
       "<table border=\"1\" class=\"dataframe\">\n",
       "  <thead>\n",
       "    <tr style=\"text-align: right;\">\n",
       "      <th></th>\n",
       "      <th>WindSpeed</th>\n",
       "      <th>Precipitation</th>\n",
       "      <th>Snow</th>\n",
       "      <th>Temperature</th>\n",
       "      <th>holidays</th>\n",
       "      <th>weekdays</th>\n",
       "      <th>pickup</th>\n",
       "    </tr>\n",
       "  </thead>\n",
       "  <tbody>\n",
       "    <tr>\n",
       "      <th>2015-01-01</th>\n",
       "      <td>7.16</td>\n",
       "      <td>0.00</td>\n",
       "      <td>0.0</td>\n",
       "      <td>33.0</td>\n",
       "      <td>0</td>\n",
       "      <td>1</td>\n",
       "      <td>48715.0</td>\n",
       "    </tr>\n",
       "    <tr>\n",
       "      <th>2015-01-02</th>\n",
       "      <td>7.16</td>\n",
       "      <td>0.00</td>\n",
       "      <td>0.0</td>\n",
       "      <td>38.5</td>\n",
       "      <td>1</td>\n",
       "      <td>0</td>\n",
       "      <td>33877.0</td>\n",
       "    </tr>\n",
       "    <tr>\n",
       "      <th>2015-01-03</th>\n",
       "      <td>6.49</td>\n",
       "      <td>0.71</td>\n",
       "      <td>0.0</td>\n",
       "      <td>37.5</td>\n",
       "      <td>0</td>\n",
       "      <td>1</td>\n",
       "      <td>50228.0</td>\n",
       "    </tr>\n",
       "    <tr>\n",
       "      <th>2015-01-04</th>\n",
       "      <td>6.49</td>\n",
       "      <td>0.30</td>\n",
       "      <td>0.0</td>\n",
       "      <td>48.5</td>\n",
       "      <td>0</td>\n",
       "      <td>0</td>\n",
       "      <td>34961.0</td>\n",
       "    </tr>\n",
       "    <tr>\n",
       "      <th>2015-01-05</th>\n",
       "      <td>10.51</td>\n",
       "      <td>0.00</td>\n",
       "      <td>0.0</td>\n",
       "      <td>35.0</td>\n",
       "      <td>0</td>\n",
       "      <td>0</td>\n",
       "      <td>36290.0</td>\n",
       "    </tr>\n",
       "  </tbody>\n",
       "</table>\n",
       "</div>"
      ],
      "text/plain": [
       "            WindSpeed  Precipitation  Snow  Temperature  holidays  weekdays  \\\n",
       "2015-01-01       7.16           0.00   0.0         33.0         0         1   \n",
       "2015-01-02       7.16           0.00   0.0         38.5         1         0   \n",
       "2015-01-03       6.49           0.71   0.0         37.5         0         1   \n",
       "2015-01-04       6.49           0.30   0.0         48.5         0         0   \n",
       "2015-01-05      10.51           0.00   0.0         35.0         0         0   \n",
       "\n",
       "             pickup  \n",
       "2015-01-01  48715.0  \n",
       "2015-01-02  33877.0  \n",
       "2015-01-03  50228.0  \n",
       "2015-01-04  34961.0  \n",
       "2015-01-05  36290.0  "
      ]
     },
     "execution_count": 19,
     "metadata": {},
     "output_type": "execute_result"
    }
   ],
   "source": [
    "X = pd.merge(nycweather, holidays, left_index=True, right_index=True, how='left')\n",
    "X = pd.merge(X, weekdays, left_index=True, right_index=True, how='left')\n",
    "X = pd.merge(X, df[['pickup']], left_index=True, right_index=True, how='left')\n",
    "X = X.fillna(0)\n",
    "print(X.shape)\n",
    "X.head()"
   ]
  },
  {
   "cell_type": "code",
   "execution_count": 20,
   "metadata": {
    "ExecuteTime": {
     "end_time": "2019-04-28T14:40:16.024249Z",
     "start_time": "2019-04-28T14:40:16.017267Z"
    }
   },
   "outputs": [],
   "source": [
    "Y = df[['tickets']]"
   ]
  },
  {
   "cell_type": "code",
   "execution_count": 21,
   "metadata": {
    "ExecuteTime": {
     "end_time": "2019-04-28T14:40:17.200103Z",
     "start_time": "2019-04-28T14:40:16.025244Z"
    }
   },
   "outputs": [
    {
     "data": {
      "text/plain": [
       "Text(0.5, 1.0, 'Tickets')"
      ]
     },
     "execution_count": 21,
     "metadata": {},
     "output_type": "execute_result"
    },
    {
     "data": {
      "image/png": "[encoded data removed]",
      "text/plain": [
       "<Figure size 1080x1080 with 8 Axes>"
      ]
     },
     "metadata": {
      "needs_background": "light"
     },
     "output_type": "display_data"
    }
   ],
   "source": [
    "fig = plt.figure(figsize=(15,15))\n",
    "for i in range(X.shape[1]):\n",
    "    ax = fig.add_subplot(3,3,i+1)\n",
    "    ax.plot(range(X.shape[0]), X[X.columns[i]], '-', linewidth=0.5)\n",
    "    ax.set_title(X.columns[i], fontsize=14)\n",
    "ax = fig.add_subplot(3,3,i+2)\n",
    "ax.plot(range(Y.shape[0]), Y, '-', linewidth=0.5, c='r')\n",
    "ax.set_title(\"Tickets\", fontsize=14)"
   ]
  },
  {
   "cell_type": "markdown",
   "metadata": {},
   "source": [
    "## standardize"
   ]
  },
  {
   "cell_type": "code",
   "execution_count": 22,
   "metadata": {
    "ExecuteTime": {
     "end_time": "2019-04-28T14:40:17.205090Z",
     "start_time": "2019-04-28T14:40:17.201100Z"
    }
   },
   "outputs": [],
   "source": [
    "def standardize(time_series):\n",
    "    return((time_series - mean(time_series)) / std(time_series))"
   ]
  },
  {
   "cell_type": "code",
   "execution_count": 23,
   "metadata": {
    "ExecuteTime": {
     "end_time": "2019-04-28T14:40:17.243028Z",
     "start_time": "2019-04-28T14:40:17.206088Z"
    }
   },
   "outputs": [
    {
     "data": {
      "text/html": [
       "<div>\n",
       "<style scoped>\n",
       "    .dataframe tbody tr th:only-of-type {\n",
       "        vertical-align: middle;\n",
       "    }\n",
       "\n",
       "    .dataframe tbody tr th {\n",
       "        vertical-align: top;\n",
       "    }\n",
       "\n",
       "    .dataframe thead th {\n",
       "        text-align: right;\n",
       "    }\n",
       "</style>\n",
       "<table border=\"1\" class=\"dataframe\">\n",
       "  <thead>\n",
       "    <tr style=\"text-align: right;\">\n",
       "      <th></th>\n",
       "      <th>tickets</th>\n",
       "    </tr>\n",
       "    <tr>\n",
       "      <th>date</th>\n",
       "      <th></th>\n",
       "    </tr>\n",
       "  </thead>\n",
       "  <tbody>\n",
       "    <tr>\n",
       "      <th>2015-01-01</th>\n",
       "      <td>-1.938225</td>\n",
       "    </tr>\n",
       "    <tr>\n",
       "      <th>2015-01-02</th>\n",
       "      <td>1.858046</td>\n",
       "    </tr>\n",
       "    <tr>\n",
       "      <th>2015-01-03</th>\n",
       "      <td>-0.255125</td>\n",
       "    </tr>\n",
       "    <tr>\n",
       "      <th>2015-01-04</th>\n",
       "      <td>-1.822499</td>\n",
       "    </tr>\n",
       "    <tr>\n",
       "      <th>2015-01-05</th>\n",
       "      <td>1.762364</td>\n",
       "    </tr>\n",
       "  </tbody>\n",
       "</table>\n",
       "</div>"
      ],
      "text/plain": [
       "             tickets\n",
       "date                \n",
       "2015-01-01 -1.938225\n",
       "2015-01-02  1.858046\n",
       "2015-01-03 -0.255125\n",
       "2015-01-04 -1.822499\n",
       "2015-01-05  1.762364"
      ]
     },
     "execution_count": 23,
     "metadata": {},
     "output_type": "execute_result"
    }
   ],
   "source": [
    "Y = standardize(Y)\n",
    "Y.head()"
   ]
  },
  {
   "cell_type": "code",
   "execution_count": 24,
   "metadata": {
    "ExecuteTime": {
     "end_time": "2019-04-28T14:40:17.254957Z",
     "start_time": "2019-04-28T14:40:17.243987Z"
    }
   },
   "outputs": [],
   "source": [
    "X = X.apply(standardize)"
   ]
  },
  {
   "cell_type": "code",
   "execution_count": 25,
   "metadata": {
    "ExecuteTime": {
     "end_time": "2019-04-28T14:40:17.298844Z",
     "start_time": "2019-04-28T14:40:17.255954Z"
    }
   },
   "outputs": [
    {
     "data": {
      "text/html": [
       "<div>\n",
       "<style scoped>\n",
       "    .dataframe tbody tr th:only-of-type {\n",
       "        vertical-align: middle;\n",
       "    }\n",
       "\n",
       "    .dataframe tbody tr th {\n",
       "        vertical-align: top;\n",
       "    }\n",
       "\n",
       "    .dataframe thead th {\n",
       "        text-align: right;\n",
       "    }\n",
       "</style>\n",
       "<table border=\"1\" class=\"dataframe\">\n",
       "  <thead>\n",
       "    <tr style=\"text-align: right;\">\n",
       "      <th></th>\n",
       "      <th>WindSpeed</th>\n",
       "      <th>Precipitation</th>\n",
       "      <th>Snow</th>\n",
       "      <th>Temperature</th>\n",
       "      <th>holidays</th>\n",
       "      <th>weekdays</th>\n",
       "      <th>pickup</th>\n",
       "    </tr>\n",
       "  </thead>\n",
       "  <tbody>\n",
       "    <tr>\n",
       "      <th>count</th>\n",
       "      <td>1.277000e+03</td>\n",
       "      <td>1.277000e+03</td>\n",
       "      <td>1.277000e+03</td>\n",
       "      <td>1.277000e+03</td>\n",
       "      <td>1.277000e+03</td>\n",
       "      <td>1.277000e+03</td>\n",
       "      <td>1.277000e+03</td>\n",
       "    </tr>\n",
       "    <tr>\n",
       "      <th>mean</th>\n",
       "      <td>1.535359e-16</td>\n",
       "      <td>-3.162875e-16</td>\n",
       "      <td>9.922021e-17</td>\n",
       "      <td>7.998474e-18</td>\n",
       "      <td>2.987256e-16</td>\n",
       "      <td>-1.486673e-16</td>\n",
       "      <td>1.092313e-15</td>\n",
       "    </tr>\n",
       "    <tr>\n",
       "      <th>std</th>\n",
       "      <td>1.000392e+00</td>\n",
       "      <td>1.000392e+00</td>\n",
       "      <td>1.000392e+00</td>\n",
       "      <td>1.000392e+00</td>\n",
       "      <td>1.000392e+00</td>\n",
       "      <td>1.000392e+00</td>\n",
       "      <td>1.000392e+00</td>\n",
       "    </tr>\n",
       "    <tr>\n",
       "      <th>min</th>\n",
       "      <td>-2.136430e+00</td>\n",
       "      <td>-3.680129e-01</td>\n",
       "      <td>-1.149385e-01</td>\n",
       "      <td>-2.764959e+00</td>\n",
       "      <td>-2.353123e-01</td>\n",
       "      <td>-1.486117e+00</td>\n",
       "      <td>-1.698927e+00</td>\n",
       "    </tr>\n",
       "    <tr>\n",
       "      <th>25%</th>\n",
       "      <td>-6.809712e-01</td>\n",
       "      <td>-3.680129e-01</td>\n",
       "      <td>-1.149385e-01</td>\n",
       "      <td>-7.577164e-01</td>\n",
       "      <td>-2.353123e-01</td>\n",
       "      <td>-1.486117e+00</td>\n",
       "      <td>-8.175990e-01</td>\n",
       "    </tr>\n",
       "    <tr>\n",
       "      <th>50%</th>\n",
       "      <td>-1.361904e-01</td>\n",
       "      <td>-3.680129e-01</td>\n",
       "      <td>-1.149385e-01</td>\n",
       "      <td>3.387209e-02</td>\n",
       "      <td>-2.353123e-01</td>\n",
       "      <td>6.728947e-01</td>\n",
       "      <td>-1.373594e-01</td>\n",
       "    </tr>\n",
       "    <tr>\n",
       "      <th>75%</th>\n",
       "      <td>5.020975e-01</td>\n",
       "      <td>-2.152126e-01</td>\n",
       "      <td>-1.149385e-01</td>\n",
       "      <td>9.102737e-01</td>\n",
       "      <td>-2.353123e-01</td>\n",
       "      <td>6.728947e-01</td>\n",
       "      <td>6.923560e-01</td>\n",
       "    </tr>\n",
       "    <tr>\n",
       "      <th>max</th>\n",
       "      <td>5.319748e+00</td>\n",
       "      <td>8.891682e+00</td>\n",
       "      <td>2.607459e+01</td>\n",
       "      <td>1.843217e+00</td>\n",
       "      <td>4.249671e+00</td>\n",
       "      <td>6.728947e-01</td>\n",
       "      <td>2.715881e+00</td>\n",
       "    </tr>\n",
       "  </tbody>\n",
       "</table>\n",
       "</div>"
      ],
      "text/plain": [
       "          WindSpeed  Precipitation          Snow   Temperature      holidays  \\\n",
       "count  1.277000e+03   1.277000e+03  1.277000e+03  1.277000e+03  1.277000e+03   \n",
       "mean   1.535359e-16  -3.162875e-16  9.922021e-17  7.998474e-18  2.987256e-16   \n",
       "std    1.000392e+00   1.000392e+00  1.000392e+00  1.000392e+00  1.000392e+00   \n",
       "min   -2.136430e+00  -3.680129e-01 -1.149385e-01 -2.764959e+00 -2.353123e-01   \n",
       "25%   -6.809712e-01  -3.680129e-01 -1.149385e-01 -7.577164e-01 -2.353123e-01   \n",
       "50%   -1.361904e-01  -3.680129e-01 -1.149385e-01  3.387209e-02 -2.353123e-01   \n",
       "75%    5.020975e-01  -2.152126e-01 -1.149385e-01  9.102737e-01 -2.353123e-01   \n",
       "max    5.319748e+00   8.891682e+00  2.607459e+01  1.843217e+00  4.249671e+00   \n",
       "\n",
       "           weekdays        pickup  \n",
       "count  1.277000e+03  1.277000e+03  \n",
       "mean  -1.486673e-16  1.092313e-15  \n",
       "std    1.000392e+00  1.000392e+00  \n",
       "min   -1.486117e+00 -1.698927e+00  \n",
       "25%   -1.486117e+00 -8.175990e-01  \n",
       "50%    6.728947e-01 -1.373594e-01  \n",
       "75%    6.728947e-01  6.923560e-01  \n",
       "max    6.728947e-01  2.715881e+00  "
      ]
     },
     "execution_count": 25,
     "metadata": {},
     "output_type": "execute_result"
    }
   ],
   "source": [
    "X.describe()"
   ]
  },
  {
   "cell_type": "markdown",
   "metadata": {},
   "source": [
    "## train & test split"
   ]
  },
  {
   "cell_type": "code",
   "execution_count": 26,
   "metadata": {
    "ExecuteTime": {
     "end_time": "2019-04-28T14:40:17.312802Z",
     "start_time": "2019-04-28T14:40:17.299837Z"
    }
   },
   "outputs": [
    {
     "name": "stdout",
     "output_type": "stream",
     "text": [
      "1096\n",
      "181\n",
      "1096\n",
      "181\n"
     ]
    }
   ],
   "source": [
    "X_train = X[:'2017-12-31']\n",
    "X_test = X['2018-01-01':]\n",
    "print(len(X_train))\n",
    "print(len(X_test))\n",
    "\n",
    "Y_train = Y[:'2017-12-31']\n",
    "Y_test = Y['2018-01-01':]\n",
    "print(len(Y_train))\n",
    "print(len(Y_test))\n",
    "\n",
    "test = pd.merge(X_test, Y_test, left_index=True, right_index=True).reset_index(drop=True)"
   ]
  },
  {
   "cell_type": "markdown",
   "metadata": {
    "ExecuteTime": {
     "end_time": "2019-04-28T13:58:25.342995Z",
     "start_time": "2019-04-28T13:58:25.339997Z"
    }
   },
   "source": [
    "# Multivariate linear regression model"
   ]
  },
  {
   "cell_type": "code",
   "execution_count": 27,
   "metadata": {
    "ExecuteTime": {
     "end_time": "2019-04-28T14:40:17.322775Z",
     "start_time": "2019-04-28T14:40:17.314797Z"
    }
   },
   "outputs": [],
   "source": [
    "def modelEval(VarSlice, lm, key = 'tickets'):\n",
    "    lmy = lm.predict(test[VarSlice])\n",
    "    y_err = lmy - test[key]\n",
    "    y_norm = test[key]-np.mean(test[key])\n",
    "    return 1-y_err.dot(y_err)/y_norm.dot(y_norm)  # R2 w.r.t. test set"
   ]
  },
  {
   "cell_type": "code",
   "execution_count": 28,
   "metadata": {
    "ExecuteTime": {
     "end_time": "2019-04-28T14:40:17.358680Z",
     "start_time": "2019-04-28T14:40:17.324770Z"
    }
   },
   "outputs": [
    {
     "data": {
      "text/html": [
       "<table class=\"simpletable\">\n",
       "<caption>OLS Regression Results</caption>\n",
       "<tr>\n",
       "  <th>Dep. Variable:</th>         <td>tickets</td>     <th>  R-squared:         </th> <td>   0.238</td>\n",
       "</tr>\n",
       "<tr>\n",
       "  <th>Model:</th>                   <td>OLS</td>       <th>  Adj. R-squared:    </th> <td>   0.233</td>\n",
       "</tr>\n",
       "<tr>\n",
       "  <th>Method:</th>             <td>Least Squares</td>  <th>  F-statistic:       </th> <td>   48.69</td>\n",
       "</tr>\n",
       "<tr>\n",
       "  <th>Date:</th>             <td>Sun, 28 Apr 2019</td> <th>  Prob (F-statistic):</th> <td>2.37e-60</td>\n",
       "</tr>\n",
       "<tr>\n",
       "  <th>Time:</th>                 <td>10:40:17</td>     <th>  Log-Likelihood:    </th> <td> -1399.5</td>\n",
       "</tr>\n",
       "<tr>\n",
       "  <th>No. Observations:</th>      <td>  1096</td>      <th>  AIC:               </th> <td>   2813.</td>\n",
       "</tr>\n",
       "<tr>\n",
       "  <th>Df Residuals:</th>          <td>  1089</td>      <th>  BIC:               </th> <td>   2848.</td>\n",
       "</tr>\n",
       "<tr>\n",
       "  <th>Df Model:</th>              <td>     7</td>      <th>                     </th>     <td> </td>   \n",
       "</tr>\n",
       "<tr>\n",
       "  <th>Covariance Type:</th>      <td>nonrobust</td>    <th>                     </th>     <td> </td>   \n",
       "</tr>\n",
       "</table>\n",
       "<table class=\"simpletable\">\n",
       "<tr>\n",
       "        <td></td>           <th>coef</th>     <th>std err</th>      <th>t</th>      <th>P>|t|</th>  <th>[0.025</th>    <th>0.975]</th>  \n",
       "</tr>\n",
       "<tr>\n",
       "  <th>WindSpeed</th>     <td>    0.0317</td> <td>    0.031</td> <td>    1.008</td> <td> 0.314</td> <td>   -0.030</td> <td>    0.093</td>\n",
       "</tr>\n",
       "<tr>\n",
       "  <th>Precipitation</th> <td>   -0.0973</td> <td>    0.028</td> <td>   -3.441</td> <td> 0.001</td> <td>   -0.153</td> <td>   -0.042</td>\n",
       "</tr>\n",
       "<tr>\n",
       "  <th>Snow</th>          <td>   -0.1373</td> <td>    0.028</td> <td>   -4.826</td> <td> 0.000</td> <td>   -0.193</td> <td>   -0.082</td>\n",
       "</tr>\n",
       "<tr>\n",
       "  <th>Temperature</th>   <td>    0.0314</td> <td>    0.031</td> <td>    1.014</td> <td> 0.311</td> <td>   -0.029</td> <td>    0.092</td>\n",
       "</tr>\n",
       "<tr>\n",
       "  <th>holidays</th>      <td>    0.0310</td> <td>    0.027</td> <td>    1.149</td> <td> 0.251</td> <td>   -0.022</td> <td>    0.084</td>\n",
       "</tr>\n",
       "<tr>\n",
       "  <th>weekdays</th>      <td>    0.4489</td> <td>    0.027</td> <td>   16.417</td> <td> 0.000</td> <td>    0.395</td> <td>    0.503</td>\n",
       "</tr>\n",
       "<tr>\n",
       "  <th>pickup</th>        <td>   -0.1681</td> <td>    0.032</td> <td>   -5.286</td> <td> 0.000</td> <td>   -0.230</td> <td>   -0.106</td>\n",
       "</tr>\n",
       "</table>\n",
       "<table class=\"simpletable\">\n",
       "<tr>\n",
       "  <th>Omnibus:</th>       <td>97.944</td> <th>  Durbin-Watson:     </th> <td>   1.438</td>\n",
       "</tr>\n",
       "<tr>\n",
       "  <th>Prob(Omnibus):</th> <td> 0.000</td> <th>  Jarque-Bera (JB):  </th> <td> 206.699</td>\n",
       "</tr>\n",
       "<tr>\n",
       "  <th>Skew:</th>          <td> 0.550</td> <th>  Prob(JB):          </th> <td>1.31e-45</td>\n",
       "</tr>\n",
       "<tr>\n",
       "  <th>Kurtosis:</th>      <td> 4.821</td> <th>  Cond. No.          </th> <td>    1.93</td>\n",
       "</tr>\n",
       "</table><br/><br/>Warnings:<br/>[1] Standard Errors assume that the covariance matrix of the errors is correctly specified."
      ],
      "text/plain": [
       "<class 'statsmodels.iolib.summary.Summary'>\n",
       "\"\"\"\n",
       "                            OLS Regression Results                            \n",
       "==============================================================================\n",
       "Dep. Variable:                tickets   R-squared:                       0.238\n",
       "Model:                            OLS   Adj. R-squared:                  0.233\n",
       "Method:                 Least Squares   F-statistic:                     48.69\n",
       "Date:                Sun, 28 Apr 2019   Prob (F-statistic):           2.37e-60\n",
       "Time:                        10:40:17   Log-Likelihood:                -1399.5\n",
       "No. Observations:                1096   AIC:                             2813.\n",
       "Df Residuals:                    1089   BIC:                             2848.\n",
       "Df Model:                           7                                         \n",
       "Covariance Type:            nonrobust                                         \n",
       "=================================================================================\n",
       "                    coef    std err          t      P>|t|      [0.025      0.975]\n",
       "---------------------------------------------------------------------------------\n",
       "WindSpeed         0.0317      0.031      1.008      0.314      -0.030       0.093\n",
       "Precipitation    -0.0973      0.028     -3.441      0.001      -0.153      -0.042\n",
       "Snow             -0.1373      0.028     -4.826      0.000      -0.193      -0.082\n",
       "Temperature       0.0314      0.031      1.014      0.311      -0.029       0.092\n",
       "holidays          0.0310      0.027      1.149      0.251      -0.022       0.084\n",
       "weekdays          0.4489      0.027     16.417      0.000       0.395       0.503\n",
       "pickup           -0.1681      0.032     -5.286      0.000      -0.230      -0.106\n",
       "==============================================================================\n",
       "Omnibus:                       97.944   Durbin-Watson:                   1.438\n",
       "Prob(Omnibus):                  0.000   Jarque-Bera (JB):              206.699\n",
       "Skew:                           0.550   Prob(JB):                     1.31e-45\n",
       "Kurtosis:                       4.821   Cond. No.                         1.93\n",
       "==============================================================================\n",
       "\n",
       "Warnings:\n",
       "[1] Standard Errors assume that the covariance matrix of the errors is correctly specified.\n",
       "\"\"\""
      ]
     },
     "execution_count": 28,
     "metadata": {},
     "output_type": "execute_result"
    }
   ],
   "source": [
    "multimod = sm.OLS(Y_train, X_train).fit()\n",
    "multimod.summary()"
   ]
  },
  {
   "cell_type": "code",
   "execution_count": 29,
   "metadata": {
    "ExecuteTime": {
     "end_time": "2019-04-28T14:40:17.368652Z",
     "start_time": "2019-04-28T14:40:17.361675Z"
    }
   },
   "outputs": [
    {
     "name": "stdout",
     "output_type": "stream",
     "text": [
      "In sample R-squared: 0.238390\n",
      "Out of sample R-squared: 0.095436\n"
     ]
    }
   ],
   "source": [
    "print('In sample R-squared: %f'%multimod.rsquared)\n",
    "print('Out of sample R-squared: %f'%modelEval(test.columns[:-1],lm=multimod))"
   ]
  },
  {
   "cell_type": "markdown",
   "metadata": {},
   "source": [
    "# Fixed effect model\n",
    "https://stackoverflow.com/questions/24195432/fixed-effect-in-pandas-or-statsmodels"
   ]
  },
  {
   "cell_type": "code",
   "execution_count": 30,
   "metadata": {
    "ExecuteTime": {
     "end_time": "2019-04-28T14:40:17.428492Z",
     "start_time": "2019-04-28T14:40:17.370651Z"
    }
   },
   "outputs": [],
   "source": [
    "from linearmodels import PanelOLS"
   ]
  },
  {
   "cell_type": "code",
   "execution_count": 31,
   "metadata": {
    "ExecuteTime": {
     "end_time": "2019-04-28T14:40:17.805510Z",
     "start_time": "2019-04-28T14:40:17.429501Z"
    }
   },
   "outputs": [
    {
     "ename": "ZeroDivisionError",
     "evalue": "float division by zero",
     "output_type": "error",
     "traceback": [
      "\u001b[1;31m---------------------------------------------------------------------------\u001b[0m",
      "\u001b[1;31mZeroDivisionError\u001b[0m                         Traceback (most recent call last)",
      "\u001b[1;32m<ipython-input-31-312a31cd278f>\u001b[0m in \u001b[0;36m<module>\u001b[1;34m\u001b[0m\n\u001b[0;32m      1\u001b[0m \u001b[0mmod\u001b[0m \u001b[1;33m=\u001b[0m \u001b[0mPanelOLS\u001b[0m\u001b[1;33m(\u001b[0m\u001b[0mY_train\u001b[0m\u001b[1;33m,\u001b[0m \u001b[0mX_train\u001b[0m\u001b[1;33m[\u001b[0m\u001b[1;33m[\u001b[0m\u001b[1;34m'pickup'\u001b[0m\u001b[1;33m]\u001b[0m\u001b[1;33m]\u001b[0m\u001b[1;33m,\u001b[0m \u001b[0mentity_effects\u001b[0m\u001b[1;33m=\u001b[0m\u001b[1;32mTrue\u001b[0m\u001b[1;33m)\u001b[0m\u001b[1;33m\u001b[0m\u001b[1;33m\u001b[0m\u001b[0m\n\u001b[1;32m----> 2\u001b[1;33m \u001b[0mres\u001b[0m \u001b[1;33m=\u001b[0m \u001b[0mmod\u001b[0m\u001b[1;33m.\u001b[0m\u001b[0mfit\u001b[0m\u001b[1;33m(\u001b[0m\u001b[0mcov_type\u001b[0m\u001b[1;33m=\u001b[0m\u001b[1;34m'clustered'\u001b[0m\u001b[1;33m,\u001b[0m \u001b[0mcluster_entity\u001b[0m\u001b[1;33m=\u001b[0m\u001b[1;32mTrue\u001b[0m\u001b[1;33m)\u001b[0m\u001b[1;33m\u001b[0m\u001b[1;33m\u001b[0m\u001b[0m\n\u001b[0m\u001b[0;32m      3\u001b[0m \u001b[0mprint\u001b[0m\u001b[1;33m(\u001b[0m\u001b[0mres\u001b[0m\u001b[1;33m)\u001b[0m\u001b[1;33m\u001b[0m\u001b[1;33m\u001b[0m\u001b[0m\n",
      "\u001b[1;32mC:\\ProgramData\\Anaconda3\\lib\\site-packages\\linearmodels\\panel\\model.py\u001b[0m in \u001b[0;36mfit\u001b[1;34m(self, use_lsdv, use_lsmr, low_memory, cov_type, debiased, auto_df, count_effects, **cov_config)\u001b[0m\n\u001b[0;32m   1374\u001b[0m             \u001b[0mweps_pooled\u001b[0m \u001b[1;33m=\u001b[0m \u001b[0mwy\u001b[0m \u001b[1;33m-\u001b[0m \u001b[0mwx\u001b[0m \u001b[1;33m@\u001b[0m \u001b[0mlstsq\u001b[0m\u001b[1;33m(\u001b[0m\u001b[0mwx\u001b[0m\u001b[1;33m,\u001b[0m \u001b[0mwy\u001b[0m\u001b[1;33m)\u001b[0m\u001b[1;33m[\u001b[0m\u001b[1;36m0\u001b[0m\u001b[1;33m]\u001b[0m\u001b[1;33m\u001b[0m\u001b[1;33m\u001b[0m\u001b[0m\n\u001b[0;32m   1375\u001b[0m             \u001b[0mresid_ss_pooled\u001b[0m \u001b[1;33m=\u001b[0m \u001b[0mfloat\u001b[0m\u001b[1;33m(\u001b[0m\u001b[0mweps_pooled\u001b[0m\u001b[1;33m.\u001b[0m\u001b[0mT\u001b[0m \u001b[1;33m@\u001b[0m \u001b[0mweps_pooled\u001b[0m\u001b[1;33m)\u001b[0m\u001b[1;33m\u001b[0m\u001b[1;33m\u001b[0m\u001b[0m\n\u001b[1;32m-> 1376\u001b[1;33m             \u001b[0mnum\u001b[0m \u001b[1;33m=\u001b[0m \u001b[1;33m(\u001b[0m\u001b[0mresid_ss_pooled\u001b[0m \u001b[1;33m-\u001b[0m \u001b[0mresid_ss\u001b[0m\u001b[1;33m)\u001b[0m \u001b[1;33m/\u001b[0m \u001b[0mdf_num\u001b[0m\u001b[1;33m\u001b[0m\u001b[1;33m\u001b[0m\u001b[0m\n\u001b[0m\u001b[0;32m   1377\u001b[0m \u001b[1;33m\u001b[0m\u001b[0m\n\u001b[0;32m   1378\u001b[0m             \u001b[0mdenom\u001b[0m \u001b[1;33m=\u001b[0m \u001b[0mresid_ss\u001b[0m \u001b[1;33m/\u001b[0m \u001b[0mdf_denom\u001b[0m\u001b[1;33m\u001b[0m\u001b[1;33m\u001b[0m\u001b[0m\n",
      "\u001b[1;31mZeroDivisionError\u001b[0m: float division by zero"
     ]
    }
   ],
   "source": [
    "mod = PanelOLS(Y_train, X_train[['pickup']], entity_effects=True)\n",
    "res = mod.fit(cov_type='clustered', cluster_entity=True)\n",
    "print(res)"
   ]
  }
 ],
 "metadata": {
  "kernelspec": {
   "display_name": "Python 3",
   "language": "python",
   "name": "python3"
  },
  "language_info": {
   "codemirror_mode": {
    "name": "ipython",
    "version": 3
   },
   "file_extension": ".py",
   "mimetype": "text/x-python",
   "name": "python",
   "nbconvert_exporter": "python",
   "pygments_lexer": "ipython3",
   "version": "3.6.8"
  },
  "toc": {
   "base_numbering": 1,
   "nav_menu": {},
   "number_sections": true,
   "sideBar": true,
   "skip_h1_title": false,
   "title_cell": "Table of Contents",
   "title_sidebar": "Contents",
   "toc_cell": false,
   "toc_position": {},
   "toc_section_display": true,
   "toc_window_display": true
  }
 },
 "nbformat": 4,
 "nbformat_minor": 2
}
