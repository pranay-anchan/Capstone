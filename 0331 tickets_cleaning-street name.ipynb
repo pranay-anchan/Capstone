{
 "cells": [
  {
   "cell_type": "code",
   "execution_count": 1,
   "metadata": {},
   "outputs": [],
   "source": [
    "import os\n",
    "os.environ['PYSPARK_PYTHON'] = '/nfshome/jc9033/.conda/envs/py3/bin/python3.7'\n",
    "\n",
    "from pyspark import SparkContext\n",
    "sc = SparkContext('local', 'pyspark')\n",
    "\n",
    "from pyspark.sql.session import SparkSession\n",
    "spark = SparkSession(sc)"
   ]
  },
  {
   "cell_type": "code",
   "execution_count": 2,
   "metadata": {},
   "outputs": [
    {
     "data": {
      "text/html": [
       "\n",
       "        <div>\n",
       "            <p><b>SparkContext</b></p>\n",
       "\n",
       "            <p><a href=\"http://bacon.adrf.info:4044\">Spark UI</a></p>\n",
       "\n",
       "            <dl>\n",
       "              <dt>Version</dt>\n",
       "                <dd><code>v2.4.0</code></dd>\n",
       "              <dt>Master</dt>\n",
       "                <dd><code>local</code></dd>\n",
       "              <dt>AppName</dt>\n",
       "                <dd><code>pyspark</code></dd>\n",
       "            </dl>\n",
       "        </div>\n",
       "        "
      ],
      "text/plain": [
       "<SparkContext master=local appName=pyspark>"
      ]
     },
     "execution_count": 2,
     "metadata": {},
     "output_type": "execute_result"
    }
   ],
   "source": [
    "sc"
   ]
  },
  {
   "cell_type": "code",
   "execution_count": 3,
   "metadata": {},
   "outputs": [
    {
     "name": "stdout",
     "output_type": "stream",
     "text": [
      "[(0, 'Summons Number'), (1, 'Plate ID'), (2, 'Registration State'), (3, 'Plate Type'), (4, 'Issue Date'), (5, 'Violation Code'), (6, 'Vehicle Body Type'), (7, 'Vehicle Make'), (8, 'Issuing Agency'), (9, 'Street Code1'), (10, 'Street Code2'), (11, 'Street Code3'), (12, 'Vehicle Expiration Date'), (13, 'Violation Location'), (14, 'Violation Precinct'), (15, 'Issuer Precinct'), (16, 'Issuer Code'), (17, 'Issuer Command'), (18, 'Issuer Squad'), (19, 'Violation Time'), (20, 'Time First Observed'), (21, 'Violation County'), (22, 'Violation In Front Of Or Opposite'), (23, 'House Number'), (24, 'Street Name'), (25, 'Intersecting Street'), (26, 'Date First Observed'), (27, 'Law Section'), (28, 'Sub Division'), (29, 'Violation Legal Code'), (30, 'Days Parking In Effect    '), (31, 'From Hours In Effect'), (32, 'To Hours In Effect'), (33, 'Vehicle Color'), (34, 'Unregistered Vehicle?'), (35, 'Vehicle Year'), (36, 'Meter Number'), (37, 'Feet From Curb'), (38, 'Violation Post Code'), (39, 'Violation Description'), (40, 'No Standing or Stopping Violation'), (41, 'Hydrant Violation'), (42, 'Double Parking Violation')]\n"
     ]
    }
   ],
   "source": [
    "i = \"2015\"\n",
    "path = \"data_tickets/tickets_\" + i + \".csv\"\n",
    "temp = sc.textFile(path).cache()\n",
    "print(list(enumerate(temp.first().split(','))))"
   ]
  },
  {
   "cell_type": "markdown",
   "metadata": {},
   "source": [
    "## trial"
   ]
  },
  {
   "cell_type": "markdown",
   "metadata": {},
   "source": [
    "street name"
   ]
  },
  {
   "cell_type": "code",
   "execution_count": 4,
   "metadata": {},
   "outputs": [],
   "source": [
    "#distinct\n",
    "def mapper1(partitionID, rows):\n",
    "    if partitionID==0:\n",
    "        next(rows)\n",
    "    import csv\n",
    "    reader = csv.reader(rows)\n",
    "    for fields in reader:\n",
    "        yield(fields[24],fields[21])"
   ]
  },
  {
   "cell_type": "code",
   "execution_count": null,
   "metadata": {},
   "outputs": [],
   "source": [
    "%%time\n",
    "i = \"2015\"\n",
    "path = \"data_tickets/tickets_\" + i + \".csv\"\n",
    "rdd = sc.textFile(path)\\\n",
    "         .mapPartitionsWithIndex(mapper1)\\\n",
    "         .distinct()      "
   ]
  },
  {
   "cell_type": "code",
   "execution_count": null,
   "metadata": {},
   "outputs": [],
   "source": [
    "%%time\n",
    "rdd.take(5)"
   ]
  },
  {
   "cell_type": "markdown",
   "metadata": {},
   "source": [
    "2"
   ]
  },
  {
   "cell_type": "code",
   "execution_count": null,
   "metadata": {},
   "outputs": [],
   "source": [
    "#distinct\n",
    "def mapper1(partitionID, rows):\n",
    "    if partitionID==0:\n",
    "        next(rows)\n",
    "    import csv\n",
    "    reader = csv.reader(rows)\n",
    "    for fields in reader:\n",
    "        yield((fields[4], fields[24],fields[21]),1)\n",
    "\n",
    "def mapper2(partition):\n",
    "    for element in partition:\n",
    "        yield(element[0][0], element[0][1], element[0][2], element[1])"
   ]
  },
  {
   "cell_type": "code",
   "execution_count": null,
   "metadata": {},
   "outputs": [],
   "source": [
    "%%time\n",
    "i = \"2015\"\n",
    "path = \"data_tickets/tickets_\" + i + \".csv\"\n",
    "rdd = sc.textFile(path)\\\n",
    "         .mapPartitionsWithIndex(mapper1)\\\n",
    "         .groupByKey().mapValues(sum)\\\n",
    "         .mapPartitions(mapper2)"
   ]
  },
  {
   "cell_type": "code",
   "execution_count": null,
   "metadata": {},
   "outputs": [],
   "source": [
    "%%time\n",
    "rdd.take(5)"
   ]
  },
  {
   "cell_type": "markdown",
   "metadata": {},
   "source": [
    "# Cleaning & Integrating"
   ]
  },
  {
   "cell_type": "code",
   "execution_count": 5,
   "metadata": {},
   "outputs": [
    {
     "name": "stdout",
     "output_type": "stream",
     "text": [
      "2014\n",
      "2015\n",
      "2016\n",
      "2017\n",
      "2018\n",
      "2019\n",
      "CPU times: user 264 ms, sys: 104 ms, total: 368 ms\n",
      "Wall time: 9min 42s\n"
     ]
    }
   ],
   "source": [
    "%%time\n",
    "for i in range(2014,2020):\n",
    "    print(i)\n",
    "    path = \"data_tickets/tickets_\" + str(i) + \".csv\"\n",
    "    if i == 2014:\n",
    "        rdd = sc.textFile(path)\\\n",
    "                 .mapPartitionsWithIndex(mapper1)\\\n",
    "                 .distinct()      \n",
    "    else:\n",
    "        temp = sc.textFile(path)\\\n",
    "                 .mapPartitionsWithIndex(mapper1)\\\n",
    "                 .distinct()\n",
    "        rdd = rdd.union(temp).distinct()\n",
    "    rdd.take(5)"
   ]
  },
  {
   "cell_type": "markdown",
   "metadata": {},
   "source": [
    "### Output CSV"
   ]
  },
  {
   "cell_type": "code",
   "execution_count": 6,
   "metadata": {},
   "outputs": [
    {
     "name": "stdout",
     "output_type": "stream",
     "text": [
      "CPU times: user 288 ms, sys: 80 ms, total: 368 ms\n",
      "Wall time: 2.9 s\n"
     ]
    }
   ],
   "source": [
    "%%time\n",
    "from pyspark import SparkContext\n",
    "df = spark.createDataFrame(rdd, ['street_name', 'borough'])"
   ]
  },
  {
   "cell_type": "code",
   "execution_count": 7,
   "metadata": {},
   "outputs": [
    {
     "name": "stdout",
     "output_type": "stream",
     "text": [
      "+--------------------+-------+\n",
      "|         street_name|borough|\n",
      "+--------------------+-------+\n",
      "|        WEST 58TH ST|       |\n",
      "|             E 82 ST|     NY|\n",
      "|         SHARON LANE|      R|\n",
      "|          PARKER AVE|     BX|\n",
      "|         CORTANA AVE|     BX|\n",
      "|    E/S DOUGULAS AVE|     BX|\n",
      "|      C/O N/E JEROME|     BX|\n",
      "|          HUBERT AVE|     BX|\n",
      "|          KENNEDY CR|      Q|\n",
      "| E MOSHULO PKY SOUTH|     BX|\n",
      "|           W 41ST ST|     NY|\n",
      "|            21st Ave|      Q|\n",
      "|        S/O W 174 ST|     BX|\n",
      "|       S/W C/O 45 ST|      K|\n",
      "|             E 5  ST|     NY|\n",
      "|      W/S CHELSEA RD|      R|\n",
      "|             C/O 193|      Q|\n",
      "|    130 COURT STREET|      K|\n",
      "|      C/O EDSALL AVE|     BX|\n",
      "|N/N/C/O RESERVOIR AV|     BX|\n",
      "+--------------------+-------+\n",
      "only showing top 20 rows\n",
      "\n"
     ]
    }
   ],
   "source": [
    "df.show()"
   ]
  },
  {
   "cell_type": "code",
   "execution_count": 8,
   "metadata": {},
   "outputs": [
    {
     "name": "stdout",
     "output_type": "stream",
     "text": [
      "CPU times: user 4 ms, sys: 0 ns, total: 4 ms\n",
      "Wall time: 18.1 s\n"
     ]
    }
   ],
   "source": [
    "%%time\n",
    "df.coalesce(1).write.format('com.databricks.spark.csv').options(header='true').save('output_tickets_street_name')"
   ]
  },
  {
   "cell_type": "markdown",
   "metadata": {},
   "source": [
    "###  Check file"
   ]
  },
  {
   "cell_type": "code",
   "execution_count": 2,
   "metadata": {},
   "outputs": [
    {
     "data": {
      "text/plain": [
       "['part-00000-16a3a53f-caa1-4c35-be0c-7a9ae32dbe71-c000-Copy1.csv',\n",
       " 'tickets_street_name.csv']"
      ]
     },
     "execution_count": 2,
     "metadata": {},
     "output_type": "execute_result"
    }
   ],
   "source": [
    "filename = ! ls output_tickets_street_name | grep .csv\n",
    "filename"
   ]
  },
  {
   "cell_type": "code",
   "execution_count": 4,
   "metadata": {},
   "outputs": [
    {
     "name": "stderr",
     "output_type": "stream",
     "text": [
      "b'Skipping line 109119: expected 2 fields, saw 159\\n'\n"
     ]
    },
    {
     "name": "stdout",
     "output_type": "stream",
     "text": [
      "(358602, 2)\n"
     ]
    }
   ],
   "source": [
    "import pandas as pd\n",
    "pddf = pd.read_csv('output_tickets_street_name/'+filename[1], error_bad_lines=False)#.fillna(0)\n",
    "print(pddf.shape)"
   ]
  },
  {
   "cell_type": "code",
   "execution_count": 5,
   "metadata": {},
   "outputs": [
    {
     "data": {
      "text/html": [
       "<div>\n",
       "<style scoped>\n",
       "    .dataframe tbody tr th:only-of-type {\n",
       "        vertical-align: middle;\n",
       "    }\n",
       "\n",
       "    .dataframe tbody tr th {\n",
       "        vertical-align: top;\n",
       "    }\n",
       "\n",
       "    .dataframe thead th {\n",
       "        text-align: right;\n",
       "    }\n",
       "</style>\n",
       "<table border=\"1\" class=\"dataframe\">\n",
       "  <thead>\n",
       "    <tr style=\"text-align: right;\">\n",
       "      <th></th>\n",
       "      <th>street_name</th>\n",
       "      <th>borough</th>\n",
       "    </tr>\n",
       "  </thead>\n",
       "  <tbody>\n",
       "    <tr>\n",
       "      <th>0</th>\n",
       "      <td>WEST 58TH ST</td>\n",
       "      <td>NaN</td>\n",
       "    </tr>\n",
       "    <tr>\n",
       "      <th>1</th>\n",
       "      <td>E 82 ST</td>\n",
       "      <td>NY</td>\n",
       "    </tr>\n",
       "    <tr>\n",
       "      <th>2</th>\n",
       "      <td>SHARON LANE</td>\n",
       "      <td>R</td>\n",
       "    </tr>\n",
       "    <tr>\n",
       "      <th>3</th>\n",
       "      <td>PARKER AVE</td>\n",
       "      <td>BX</td>\n",
       "    </tr>\n",
       "    <tr>\n",
       "      <th>4</th>\n",
       "      <td>CORTANA AVE</td>\n",
       "      <td>BX</td>\n",
       "    </tr>\n",
       "  </tbody>\n",
       "</table>\n",
       "</div>"
      ],
      "text/plain": [
       "    street_name borough\n",
       "0  WEST 58TH ST     NaN\n",
       "1       E 82 ST      NY\n",
       "2   SHARON LANE       R\n",
       "3    PARKER AVE      BX\n",
       "4   CORTANA AVE      BX"
      ]
     },
     "execution_count": 5,
     "metadata": {},
     "output_type": "execute_result"
    }
   ],
   "source": [
    "pddf.head()"
   ]
  },
  {
   "cell_type": "code",
   "execution_count": 6,
   "metadata": {},
   "outputs": [
    {
     "data": {
      "text/html": [
       "<div>\n",
       "<style scoped>\n",
       "    .dataframe tbody tr th:only-of-type {\n",
       "        vertical-align: middle;\n",
       "    }\n",
       "\n",
       "    .dataframe tbody tr th {\n",
       "        vertical-align: top;\n",
       "    }\n",
       "\n",
       "    .dataframe thead th {\n",
       "        text-align: right;\n",
       "    }\n",
       "</style>\n",
       "<table border=\"1\" class=\"dataframe\">\n",
       "  <thead>\n",
       "    <tr style=\"text-align: right;\">\n",
       "      <th></th>\n",
       "      <th>street_name</th>\n",
       "      <th>borough</th>\n",
       "    </tr>\n",
       "  </thead>\n",
       "  <tbody>\n",
       "    <tr>\n",
       "      <th>358597</th>\n",
       "      <td>S/O SHEFFIELD AVENUE</td>\n",
       "      <td>K</td>\n",
       "    </tr>\n",
       "    <tr>\n",
       "      <th>358598</th>\n",
       "      <td>GULF ST</td>\n",
       "      <td>R</td>\n",
       "    </tr>\n",
       "    <tr>\n",
       "      <th>358599</th>\n",
       "      <td>E/S LORIMER S/O BAYA</td>\n",
       "      <td>K</td>\n",
       "    </tr>\n",
       "    <tr>\n",
       "      <th>358600</th>\n",
       "      <td>ST PAUL S PLAZA</td>\n",
       "      <td>K</td>\n",
       "    </tr>\n",
       "    <tr>\n",
       "      <th>358601</th>\n",
       "      <td>RIDGEOOD AVE</td>\n",
       "      <td>K</td>\n",
       "    </tr>\n",
       "  </tbody>\n",
       "</table>\n",
       "</div>"
      ],
      "text/plain": [
       "                 street_name borough\n",
       "358597  S/O SHEFFIELD AVENUE       K\n",
       "358598               GULF ST       R\n",
       "358599  E/S LORIMER S/O BAYA       K\n",
       "358600       ST PAUL S PLAZA       K\n",
       "358601          RIDGEOOD AVE       K"
      ]
     },
     "execution_count": 6,
     "metadata": {},
     "output_type": "execute_result"
    }
   ],
   "source": [
    "pddf.tail()"
   ]
  },
  {
   "cell_type": "code",
   "execution_count": 7,
   "metadata": {},
   "outputs": [
    {
     "data": {
      "text/plain": [
       "300966"
      ]
     },
     "execution_count": 7,
     "metadata": {},
     "output_type": "execute_result"
    }
   ],
   "source": [
    "len(pddf['street_name'].unique())"
   ]
  },
  {
   "cell_type": "code",
   "execution_count": 13,
   "metadata": {},
   "outputs": [
    {
     "data": {
      "text/html": [
       "<div>\n",
       "<style scoped>\n",
       "    .dataframe tbody tr th:only-of-type {\n",
       "        vertical-align: middle;\n",
       "    }\n",
       "\n",
       "    .dataframe tbody tr th {\n",
       "        vertical-align: top;\n",
       "    }\n",
       "\n",
       "    .dataframe thead th {\n",
       "        text-align: right;\n",
       "    }\n",
       "</style>\n",
       "<table border=\"1\" class=\"dataframe\">\n",
       "  <thead>\n",
       "    <tr style=\"text-align: right;\">\n",
       "      <th></th>\n",
       "      <th>street_name</th>\n",
       "      <th>borough</th>\n",
       "    </tr>\n",
       "  </thead>\n",
       "  <tbody>\n",
       "    <tr>\n",
       "      <th>10000</th>\n",
       "      <td>ISABELLA AVE</td>\n",
       "      <td>R</td>\n",
       "    </tr>\n",
       "    <tr>\n",
       "      <th>10001</th>\n",
       "      <td>S/E CORNER OF 65 ST</td>\n",
       "      <td>K</td>\n",
       "    </tr>\n",
       "    <tr>\n",
       "      <th>10002</th>\n",
       "      <td>56TH</td>\n",
       "      <td>Q</td>\n",
       "    </tr>\n",
       "    <tr>\n",
       "      <th>10003</th>\n",
       "      <td>S/O 2275 SANDSON AV</td>\n",
       "      <td>BX</td>\n",
       "    </tr>\n",
       "    <tr>\n",
       "      <th>10004</th>\n",
       "      <td>N/S 32 AV</td>\n",
       "      <td>Q</td>\n",
       "    </tr>\n",
       "    <tr>\n",
       "      <th>10005</th>\n",
       "      <td>C/O CROTONA AVE</td>\n",
       "      <td>BX</td>\n",
       "    </tr>\n",
       "    <tr>\n",
       "      <th>10006</th>\n",
       "      <td>WATCHOGUE RD</td>\n",
       "      <td>R</td>\n",
       "    </tr>\n",
       "    <tr>\n",
       "      <th>10007</th>\n",
       "      <td>I/O 112 AV</td>\n",
       "      <td>Q</td>\n",
       "    </tr>\n",
       "    <tr>\n",
       "      <th>10008</th>\n",
       "      <td>83RD STREET</td>\n",
       "      <td>Q</td>\n",
       "    </tr>\n",
       "    <tr>\n",
       "      <th>10009</th>\n",
       "      <td>HIGHLAND BLVD 500FT</td>\n",
       "      <td>NaN</td>\n",
       "    </tr>\n",
       "    <tr>\n",
       "      <th>10010</th>\n",
       "      <td>21 ST</td>\n",
       "      <td>BX</td>\n",
       "    </tr>\n",
       "    <tr>\n",
       "      <th>10011</th>\n",
       "      <td>GARDENS AV</td>\n",
       "      <td>K</td>\n",
       "    </tr>\n",
       "    <tr>\n",
       "      <th>10012</th>\n",
       "      <td>WORTMAN AVER</td>\n",
       "      <td>K</td>\n",
       "    </tr>\n",
       "    <tr>\n",
       "      <th>10013</th>\n",
       "      <td>WEST 96TH AVE</td>\n",
       "      <td>NY</td>\n",
       "    </tr>\n",
       "    <tr>\n",
       "      <th>10014</th>\n",
       "      <td>S/E/C 48TH  ST</td>\n",
       "      <td>NY</td>\n",
       "    </tr>\n",
       "    <tr>\n",
       "      <th>10015</th>\n",
       "      <td>R/S 21 AVE</td>\n",
       "      <td>K</td>\n",
       "    </tr>\n",
       "    <tr>\n",
       "      <th>10016</th>\n",
       "      <td>Reading Ave</td>\n",
       "      <td>R</td>\n",
       "    </tr>\n",
       "    <tr>\n",
       "      <th>10017</th>\n",
       "      <td>STUYVSANT AVE</td>\n",
       "      <td>K</td>\n",
       "    </tr>\n",
       "    <tr>\n",
       "      <th>10018</th>\n",
       "      <td>E 34 S</td>\n",
       "      <td>NaN</td>\n",
       "    </tr>\n",
       "    <tr>\n",
       "      <th>10019</th>\n",
       "      <td>NW C/O E 99 ST</td>\n",
       "      <td>K</td>\n",
       "    </tr>\n",
       "    <tr>\n",
       "      <th>10020</th>\n",
       "      <td>SE C/O PALMER</td>\n",
       "      <td>BX</td>\n",
       "    </tr>\n",
       "    <tr>\n",
       "      <th>10021</th>\n",
       "      <td>N/E C/O MILLES AVE</td>\n",
       "      <td>BX</td>\n",
       "    </tr>\n",
       "    <tr>\n",
       "      <th>10022</th>\n",
       "      <td>SQ E</td>\n",
       "      <td>NY</td>\n",
       "    </tr>\n",
       "    <tr>\n",
       "      <th>10023</th>\n",
       "      <td>EAST 131</td>\n",
       "      <td>NaN</td>\n",
       "    </tr>\n",
       "    <tr>\n",
       "      <th>10024</th>\n",
       "      <td>LONGLINES AV</td>\n",
       "      <td>BX</td>\n",
       "    </tr>\n",
       "    <tr>\n",
       "      <th>10025</th>\n",
       "      <td>HUTCH RIVI PKWY</td>\n",
       "      <td>BX</td>\n",
       "    </tr>\n",
       "    <tr>\n",
       "      <th>10026</th>\n",
       "      <td>COLONIEL</td>\n",
       "      <td>K</td>\n",
       "    </tr>\n",
       "    <tr>\n",
       "      <th>10027</th>\n",
       "      <td>S/W C/O HENRY ST</td>\n",
       "      <td>NY</td>\n",
       "    </tr>\n",
       "    <tr>\n",
       "      <th>10028</th>\n",
       "      <td>N. OAK DR</td>\n",
       "      <td>BX</td>\n",
       "    </tr>\n",
       "    <tr>\n",
       "      <th>10029</th>\n",
       "      <td>SCHERMERHON</td>\n",
       "      <td>K</td>\n",
       "    </tr>\n",
       "    <tr>\n",
       "      <th>...</th>\n",
       "      <td>...</td>\n",
       "      <td>...</td>\n",
       "    </tr>\n",
       "    <tr>\n",
       "      <th>358572</th>\n",
       "      <td>E/S TROUTMAN</td>\n",
       "      <td>K</td>\n",
       "    </tr>\n",
       "    <tr>\n",
       "      <th>358573</th>\n",
       "      <td>S/E/C COLES ST</td>\n",
       "      <td>K</td>\n",
       "    </tr>\n",
       "    <tr>\n",
       "      <th>358574</th>\n",
       "      <td>JFK EXPRESSWAY SERVI</td>\n",
       "      <td>Q</td>\n",
       "    </tr>\n",
       "    <tr>\n",
       "      <th>358575</th>\n",
       "      <td>STORY AVENUEE</td>\n",
       "      <td>BX</td>\n",
       "    </tr>\n",
       "    <tr>\n",
       "      <th>358576</th>\n",
       "      <td>C/O 146 TERRE</td>\n",
       "      <td>Q</td>\n",
       "    </tr>\n",
       "    <tr>\n",
       "      <th>358577</th>\n",
       "      <td>W/S MOULTRIE</td>\n",
       "      <td>K</td>\n",
       "    </tr>\n",
       "    <tr>\n",
       "      <th>358578</th>\n",
       "      <td>TERRCAE PL</td>\n",
       "      <td>K</td>\n",
       "    </tr>\n",
       "    <tr>\n",
       "      <th>358579</th>\n",
       "      <td>JEROME PLGD</td>\n",
       "      <td>BX</td>\n",
       "    </tr>\n",
       "    <tr>\n",
       "      <th>358580</th>\n",
       "      <td>NW C/O 122 ST</td>\n",
       "      <td>NY</td>\n",
       "    </tr>\n",
       "    <tr>\n",
       "      <th>358581</th>\n",
       "      <td>LACONIA AVENUE</td>\n",
       "      <td>NY</td>\n",
       "    </tr>\n",
       "    <tr>\n",
       "      <th>358582</th>\n",
       "      <td>SOUTH OF HORATIO ST</td>\n",
       "      <td>NY</td>\n",
       "    </tr>\n",
       "    <tr>\n",
       "      <th>358583</th>\n",
       "      <td>NOVEMBER</td>\n",
       "      <td>Q</td>\n",
       "    </tr>\n",
       "    <tr>\n",
       "      <th>358584</th>\n",
       "      <td>BBB PIER 2</td>\n",
       "      <td>K</td>\n",
       "    </tr>\n",
       "    <tr>\n",
       "      <th>358585</th>\n",
       "      <td>S/S PRESIDENT AVE</td>\n",
       "      <td>K</td>\n",
       "    </tr>\n",
       "    <tr>\n",
       "      <th>358586</th>\n",
       "      <td>C/O 124 STREET</td>\n",
       "      <td>NaN</td>\n",
       "    </tr>\n",
       "    <tr>\n",
       "      <th>358587</th>\n",
       "      <td>W/S 129 ST</td>\n",
       "      <td>NaN</td>\n",
       "    </tr>\n",
       "    <tr>\n",
       "      <th>358588</th>\n",
       "      <td>WOODROSE LANE</td>\n",
       "      <td>R</td>\n",
       "    </tr>\n",
       "    <tr>\n",
       "      <th>358589</th>\n",
       "      <td>S/B MORNINGSIDE DRIV</td>\n",
       "      <td>NaN</td>\n",
       "    </tr>\n",
       "    <tr>\n",
       "      <th>358590</th>\n",
       "      <td>E/O WEST 15 ST</td>\n",
       "      <td>K</td>\n",
       "    </tr>\n",
       "    <tr>\n",
       "      <th>358591</th>\n",
       "      <td>NW C/O 220 PL NORTHE</td>\n",
       "      <td>Q</td>\n",
       "    </tr>\n",
       "    <tr>\n",
       "      <th>358592</th>\n",
       "      <td>SW C/O PACIFIC ST</td>\n",
       "      <td>K</td>\n",
       "    </tr>\n",
       "    <tr>\n",
       "      <th>358593</th>\n",
       "      <td>N/S OF E 160 ST</td>\n",
       "      <td>BX</td>\n",
       "    </tr>\n",
       "    <tr>\n",
       "      <th>358594</th>\n",
       "      <td>75 ND ST</td>\n",
       "      <td>Q</td>\n",
       "    </tr>\n",
       "    <tr>\n",
       "      <th>358595</th>\n",
       "      <td>E/R SHEFFIELD AVE</td>\n",
       "      <td>K</td>\n",
       "    </tr>\n",
       "    <tr>\n",
       "      <th>358596</th>\n",
       "      <td>YUKON</td>\n",
       "      <td>R</td>\n",
       "    </tr>\n",
       "    <tr>\n",
       "      <th>358597</th>\n",
       "      <td>S/O SHEFFIELD AVENUE</td>\n",
       "      <td>K</td>\n",
       "    </tr>\n",
       "    <tr>\n",
       "      <th>358598</th>\n",
       "      <td>GULF ST</td>\n",
       "      <td>R</td>\n",
       "    </tr>\n",
       "    <tr>\n",
       "      <th>358599</th>\n",
       "      <td>E/S LORIMER S/O BAYA</td>\n",
       "      <td>K</td>\n",
       "    </tr>\n",
       "    <tr>\n",
       "      <th>358600</th>\n",
       "      <td>ST PAUL S PLAZA</td>\n",
       "      <td>K</td>\n",
       "    </tr>\n",
       "    <tr>\n",
       "      <th>358601</th>\n",
       "      <td>RIDGEOOD AVE</td>\n",
       "      <td>K</td>\n",
       "    </tr>\n",
       "  </tbody>\n",
       "</table>\n",
       "<p>348602 rows × 2 columns</p>\n",
       "</div>"
      ],
      "text/plain": [
       "                 street_name borough\n",
       "10000           ISABELLA AVE       R\n",
       "10001    S/E CORNER OF 65 ST       K\n",
       "10002                   56TH       Q\n",
       "10003    S/O 2275 SANDSON AV      BX\n",
       "10004              N/S 32 AV       Q\n",
       "10005        C/O CROTONA AVE      BX\n",
       "10006           WATCHOGUE RD       R\n",
       "10007             I/O 112 AV       Q\n",
       "10008            83RD STREET       Q\n",
       "10009    HIGHLAND BLVD 500FT     NaN\n",
       "10010                  21 ST      BX\n",
       "10011             GARDENS AV       K\n",
       "10012           WORTMAN AVER       K\n",
       "10013          WEST 96TH AVE      NY\n",
       "10014         S/E/C 48TH  ST      NY\n",
       "10015             R/S 21 AVE       K\n",
       "10016            Reading Ave       R\n",
       "10017          STUYVSANT AVE       K\n",
       "10018                 E 34 S     NaN\n",
       "10019         NW C/O E 99 ST       K\n",
       "10020          SE C/O PALMER      BX\n",
       "10021     N/E C/O MILLES AVE      BX\n",
       "10022                   SQ E      NY\n",
       "10023               EAST 131     NaN\n",
       "10024           LONGLINES AV      BX\n",
       "10025        HUTCH RIVI PKWY      BX\n",
       "10026               COLONIEL       K\n",
       "10027       S/W C/O HENRY ST      NY\n",
       "10028              N. OAK DR      BX\n",
       "10029            SCHERMERHON       K\n",
       "...                      ...     ...\n",
       "358572          E/S TROUTMAN       K\n",
       "358573        S/E/C COLES ST       K\n",
       "358574  JFK EXPRESSWAY SERVI       Q\n",
       "358575         STORY AVENUEE      BX\n",
       "358576         C/O 146 TERRE       Q\n",
       "358577          W/S MOULTRIE       K\n",
       "358578            TERRCAE PL       K\n",
       "358579           JEROME PLGD      BX\n",
       "358580         NW C/O 122 ST      NY\n",
       "358581        LACONIA AVENUE      NY\n",
       "358582   SOUTH OF HORATIO ST      NY\n",
       "358583              NOVEMBER       Q\n",
       "358584            BBB PIER 2       K\n",
       "358585     S/S PRESIDENT AVE       K\n",
       "358586        C/O 124 STREET     NaN\n",
       "358587            W/S 129 ST     NaN\n",
       "358588         WOODROSE LANE       R\n",
       "358589  S/B MORNINGSIDE DRIV     NaN\n",
       "358590        E/O WEST 15 ST       K\n",
       "358591  NW C/O 220 PL NORTHE       Q\n",
       "358592     SW C/O PACIFIC ST       K\n",
       "358593       N/S OF E 160 ST      BX\n",
       "358594              75 ND ST       Q\n",
       "358595     E/R SHEFFIELD AVE       K\n",
       "358596                 YUKON       R\n",
       "358597  S/O SHEFFIELD AVENUE       K\n",
       "358598               GULF ST       R\n",
       "358599  E/S LORIMER S/O BAYA       K\n",
       "358600       ST PAUL S PLAZA       K\n",
       "358601          RIDGEOOD AVE       K\n",
       "\n",
       "[348602 rows x 2 columns]"
      ]
     },
     "execution_count": 13,
     "metadata": {},
     "output_type": "execute_result"
    }
   ],
   "source": [
    "pddf[10000:]"
   ]
  }
 ],
 "metadata": {
  "kernelspec": {
   "display_name": "py3",
   "language": "python",
   "name": "py3"
  },
  "language_info": {
   "codemirror_mode": {
    "name": "ipython",
    "version": 3
   },
   "file_extension": ".py",
   "mimetype": "text/x-python",
   "name": "python",
   "nbconvert_exporter": "python",
   "pygments_lexer": "ipython3",
   "version": "3.7.2"
  }
 },
 "nbformat": 4,
 "nbformat_minor": 2
}
