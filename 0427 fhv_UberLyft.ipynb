{
 "cells": [
  {
   "cell_type": "code",
   "execution_count": 1,
   "metadata": {},
   "outputs": [],
   "source": [
    "import os\n",
    "os.environ['PYSPARK_PYTHON'] = '/nfshome/jc9033/.conda/envs/py3/bin/python3.7'\n",
    "\n",
    "from pyspark import SparkContext\n",
    "sc = SparkContext('local', 'pyspark')\n",
    "\n",
    "from pyspark.sql.session import SparkSession\n",
    "spark = SparkSession(sc)"
   ]
  },
  {
   "cell_type": "code",
   "execution_count": 2,
   "metadata": {
    "ExecuteTime": {
     "end_time": "2019-03-11T17:46:42.959826Z",
     "start_time": "2019-03-11T17:46:42.953842Z"
    }
   },
   "outputs": [
    {
     "data": {
      "text/html": [
       "\n",
       "        <div>\n",
       "            <p><b>SparkContext</b></p>\n",
       "\n",
       "            <p><a href=\"http://bacon.adrf.info:4045\">Spark UI</a></p>\n",
       "\n",
       "            <dl>\n",
       "              <dt>Version</dt>\n",
       "                <dd><code>v2.4.0</code></dd>\n",
       "              <dt>Master</dt>\n",
       "                <dd><code>local</code></dd>\n",
       "              <dt>AppName</dt>\n",
       "                <dd><code>pyspark</code></dd>\n",
       "            </dl>\n",
       "        </div>\n",
       "        "
      ],
      "text/plain": [
       "<SparkContext master=local appName=pyspark>"
      ]
     },
     "execution_count": 2,
     "metadata": {},
     "output_type": "execute_result"
    }
   ],
   "source": [
    "sc"
   ]
  },
  {
   "cell_type": "markdown",
   "metadata": {},
   "source": [
    "## fhv"
   ]
  },
  {
   "cell_type": "code",
   "execution_count": 3,
   "metadata": {},
   "outputs": [],
   "source": [
    "#  Generate a year-month list with a start year-month and an end year-month\n",
    "def generate_year_month_list(start, end):\n",
    "    monthlist = []\n",
    "    for year in range(int(start[:4]),int(end[:4])+1):\n",
    "        for month in range(1,13):\n",
    "            if month >= 10:\n",
    "                temp = str(year) + \"-\" + str(month) \n",
    "            else:\n",
    "                temp = str(year) + \"-\" + '0' + str(month) \n",
    "            monthlist.append(temp)\n",
    "    if int(end[-2:]) == 12:\n",
    "        return monthlist[int(start[-2:])-1:]\n",
    "    else:\n",
    "        return monthlist[int(start[-2:])-1: int(end[-2:])-12]"
   ]
  },
  {
   "cell_type": "code",
   "execution_count": 4,
   "metadata": {
    "scrolled": true
   },
   "outputs": [],
   "source": [
    "year_month_list = generate_year_month_list(\"2015-01\",\"2018-06\")"
   ]
  },
  {
   "cell_type": "markdown",
   "metadata": {
    "scrolled": true
   },
   "source": [
    "# check columns for each month\n",
    "for i in year_month_list:    \n",
    "    path = \"data_fhv/fhv_\" + i + \".csv\"\n",
    "    temp = sc.textFile(path).cache()\n",
    "    print(i, list(enumerate(temp.first().split(','))))"
   ]
  },
  {
   "cell_type": "code",
   "execution_count": 5,
   "metadata": {},
   "outputs": [],
   "source": [
    "# 2015-01 : 2016-12, Pickup_date & locationID\n",
    "# 2017-01 : 2017-06, Pickup_DateTime & DropOff_datetime & PUlocationID & DOlocationID\n",
    "# 2017-07 : 2018-06, Pickup_DateTime & DropOff_datetime & PUlocationID & DOlocationID & SR_Flag"
   ]
  },
  {
   "cell_type": "markdown",
   "metadata": {},
   "source": [
    "### Processing functions"
   ]
  },
  {
   "cell_type": "code",
   "execution_count": 6,
   "metadata": {},
   "outputs": [],
   "source": [
    "def outlier_delete(x):\n",
    "    try:\n",
    "        if int(x) in range(1,264):\n",
    "            return x\n",
    "        else:\n",
    "            return \"0\"\n",
    "    except:\n",
    "        return \"0\""
   ]
  },
  {
   "cell_type": "code",
   "execution_count": 7,
   "metadata": {},
   "outputs": [],
   "source": [
    "UberLyft_base_num = ['B02512','B02395','B02617','B02682','B02764','B02765','B02835','B02836','B02864','B02865','B02866','B02867','B02869','B02870','B02871','B02872','B02875','B02876','B02877','B02878','B02879','B02880','B02882','B02883','B02884','B02887','B02888','B02889']"
   ]
  },
  {
   "cell_type": "code",
   "execution_count": 8,
   "metadata": {},
   "outputs": [],
   "source": [
    "def mapper1_1(partitionID, rows):\n",
    "    if partitionID==0:\n",
    "        next(rows)\n",
    "    import csv\n",
    "    reader = csv.reader(rows)\n",
    "    for fields in reader:\n",
    "        if fields[0] in UberLyft_base_num:\n",
    "            yield((fields[1][:10], fields[2]),1)\n",
    "\n",
    "def mapper1_2(partitionID, rows):\n",
    "    if partitionID==0:\n",
    "        next(rows)\n",
    "    import csv\n",
    "    reader = csv.reader(rows)\n",
    "    for fields in reader:\n",
    "        if fields[0] in UberLyft_base_num:\n",
    "            yield((fields[1][:10], fields[3], fields[4]),1)\n",
    "        \n",
    "def mapper2_1(partition):\n",
    "    for element in partition:\n",
    "        yield(element[0][0], outlier_delete(element[0][1]), \"0\", element[1])\n",
    "        \n",
    "def mapper2_2(partition):\n",
    "    for element in partition:\n",
    "        yield(element[0][0], outlier_delete(element[0][1]), outlier_delete(element[0][2]), element[1])"
   ]
  },
  {
   "cell_type": "markdown",
   "metadata": {},
   "source": [
    "# Cleaning & Integrating"
   ]
  },
  {
   "cell_type": "code",
   "execution_count": null,
   "metadata": {
    "scrolled": true
   },
   "outputs": [
    {
     "name": "stdout",
     "output_type": "stream",
     "text": [
      "2015-01\n",
      "2015-02\n",
      "2015-03\n",
      "2015-04\n",
      "2015-05\n",
      "2015-06\n",
      "2015-07\n",
      "2015-08\n",
      "2015-09\n",
      "2015-10\n",
      "2015-11\n",
      "2015-12\n",
      "2016-01\n",
      "2016-02\n",
      "2016-03\n",
      "2016-04\n",
      "2016-05\n",
      "2016-06\n",
      "2016-07\n",
      "2016-08\n",
      "2016-09\n",
      "2016-10\n",
      "2016-11\n",
      "2016-12\n",
      "2017-01\n",
      "2017-02\n",
      "2017-03\n",
      "2017-04\n",
      "2017-05\n",
      "2017-06\n",
      "2017-07\n"
     ]
    }
   ],
   "source": [
    "%%time\n",
    "for i in year_month_list:\n",
    "    print(i)\n",
    "    path = \"data_fhv/fhv_\" + i + \".csv\"\n",
    "    if i == \"2015-01\":\n",
    "        rdd = sc.textFile(path)\\\n",
    "                 .mapPartitionsWithIndex(mapper1_1)\\\n",
    "                 .groupByKey().mapValues(sum)\\\n",
    "                 .mapPartitions(mapper2_1)\n",
    "        rdd.take(5)\n",
    "    else:\n",
    "        if int(i[:4])<2017:\n",
    "            temp = sc.textFile(path)\\\n",
    "                     .mapPartitionsWithIndex(mapper1_1)\\\n",
    "                     .groupByKey().mapValues(sum)\\\n",
    "                     .mapPartitions(mapper2_1)\n",
    "        else:\n",
    "            temp = sc.textFile(path)\\\n",
    "                     .mapPartitionsWithIndex(mapper1_2)\\\n",
    "                     .groupByKey().mapValues(sum)\\\n",
    "                     .mapPartitions(mapper2_2)\n",
    "        rdd = rdd.union(temp)\n",
    "        rdd.take(5)"
   ]
  },
  {
   "cell_type": "markdown",
   "metadata": {},
   "source": [
    "### Output CSV"
   ]
  },
  {
   "cell_type": "code",
   "execution_count": null,
   "metadata": {},
   "outputs": [],
   "source": [
    "%%time\n",
    "from pyspark import SparkContext\n",
    "df = spark.createDataFrame(rdd, ['date', 'PUlocationID', 'DOlocationID', 'count'])"
   ]
  },
  {
   "cell_type": "code",
   "execution_count": null,
   "metadata": {},
   "outputs": [],
   "source": [
    "df.show()"
   ]
  },
  {
   "cell_type": "code",
   "execution_count": null,
   "metadata": {},
   "outputs": [],
   "source": [
    "%%time\n",
    "df.coalesce(1).write.format('com.databricks.spark.csv').options(header='true').save('output_UberLyft')"
   ]
  },
  {
   "cell_type": "markdown",
   "metadata": {},
   "source": [
    "###  Check file"
   ]
  },
  {
   "cell_type": "code",
   "execution_count": null,
   "metadata": {},
   "outputs": [],
   "source": [
    "filename = ! ls output_UberLyft | grep .csv"
   ]
  },
  {
   "cell_type": "code",
   "execution_count": null,
   "metadata": {},
   "outputs": [],
   "source": [
    "import pandas as pd\n",
    "pddf = pd.read_csv('output_UberLyft/'+filename[0]).fillna(0)\n",
    "print(pddf.shape)"
   ]
  },
  {
   "cell_type": "code",
   "execution_count": null,
   "metadata": {},
   "outputs": [],
   "source": [
    "pddf.head()"
   ]
  },
  {
   "cell_type": "code",
   "execution_count": null,
   "metadata": {},
   "outputs": [],
   "source": [
    "pddf.tail()"
   ]
  },
  {
   "cell_type": "code",
   "execution_count": null,
   "metadata": {},
   "outputs": [],
   "source": []
  }
 ],
 "metadata": {
  "kernelspec": {
   "display_name": "py3",
   "language": "python",
   "name": "py3"
  },
  "language_info": {
   "codemirror_mode": {
    "name": "ipython",
    "version": 3
   },
   "file_extension": ".py",
   "mimetype": "text/x-python",
   "name": "python",
   "nbconvert_exporter": "python",
   "pygments_lexer": "ipython3",
   "version": "3.7.2"
  },
  "toc": {
   "base_numbering": 1,
   "nav_menu": {},
   "number_sections": true,
   "sideBar": true,
   "skip_h1_title": false,
   "title_cell": "Table of Contents",
   "title_sidebar": "Contents",
   "toc_cell": false,
   "toc_position": {},
   "toc_section_display": true,
   "toc_window_display": false
  }
 },
 "nbformat": 4,
 "nbformat_minor": 2
}
