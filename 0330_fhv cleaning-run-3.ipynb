{
 "cells": [
  {
   "cell_type": "code",
   "execution_count": 1,
   "metadata": {},
   "outputs": [],
   "source": [
    "import os\n",
    "os.environ['PYSPARK_PYTHON'] = '/nfshome/jc9033/.conda/envs/py3/bin/python3.7'\n",
    "\n",
    "from pyspark import SparkContext\n",
    "sc = SparkContext('local', 'pyspark')\n",
    "\n",
    "from pyspark.sql.session import SparkSession\n",
    "spark = SparkSession(sc)"
   ]
  },
  {
   "cell_type": "code",
   "execution_count": 2,
   "metadata": {
    "ExecuteTime": {
     "end_time": "2019-03-11T17:46:42.959826Z",
     "start_time": "2019-03-11T17:46:42.953842Z"
    }
   },
   "outputs": [
    {
     "data": {
      "text/html": [
       "\n",
       "        <div>\n",
       "            <p><b>SparkContext</b></p>\n",
       "\n",
       "            <p><a href=\"http://bacon.adrf.info:4048\">Spark UI</a></p>\n",
       "\n",
       "            <dl>\n",
       "              <dt>Version</dt>\n",
       "                <dd><code>v2.4.0</code></dd>\n",
       "              <dt>Master</dt>\n",
       "                <dd><code>local</code></dd>\n",
       "              <dt>AppName</dt>\n",
       "                <dd><code>pyspark</code></dd>\n",
       "            </dl>\n",
       "        </div>\n",
       "        "
      ],
      "text/plain": [
       "<SparkContext master=local appName=pyspark>"
      ]
     },
     "execution_count": 2,
     "metadata": {},
     "output_type": "execute_result"
    }
   ],
   "source": [
    "sc"
   ]
  },
  {
   "cell_type": "markdown",
   "metadata": {},
   "source": [
    "## fhv"
   ]
  },
  {
   "cell_type": "code",
   "execution_count": 3,
   "metadata": {},
   "outputs": [],
   "source": [
    "#  Generate a year-month list with a start year-month and an end year-month\n",
    "def generate_year_month_list(start, end):\n",
    "    monthlist = []\n",
    "    for year in range(int(start[:4]),int(end[:4])+1):\n",
    "        for month in range(1,13):\n",
    "            if month >= 10:\n",
    "                temp = str(year) + \"-\" + str(month) \n",
    "            else:\n",
    "                temp = str(year) + \"-\" + '0' + str(month) \n",
    "            monthlist.append(temp)\n",
    "    if int(end[-2:]) == 12:\n",
    "        return monthlist[int(start[-2:])-1:]\n",
    "    else:\n",
    "        return monthlist[int(start[-2:])-1: int(end[-2:])-12]"
   ]
  },
  {
   "cell_type": "code",
   "execution_count": 4,
   "metadata": {
    "scrolled": true
   },
   "outputs": [],
   "source": [
    "year_month_list = generate_year_month_list(\"2015-01\",\"2018-06\")"
   ]
  },
  {
   "cell_type": "markdown",
   "metadata": {
    "scrolled": true
   },
   "source": [
    "# check columns for each month\n",
    "for i in year_month_list:    \n",
    "    path = \"data_fhv/fhv_\" + i + \".csv\"\n",
    "    temp = sc.textFile(path).cache()\n",
    "    print(i, list(enumerate(temp.first().split(','))))"
   ]
  },
  {
   "cell_type": "code",
   "execution_count": 5,
   "metadata": {},
   "outputs": [],
   "source": [
    "# 2015-01 : 2016-12, Pickup_date & locationID\n",
    "# 2017-01 : 2017-06, Pickup_DateTime & DropOff_datetime & PUlocationID & DOlocationID\n",
    "# 2017-07 : 2018-06, Pickup_DateTime & DropOff_datetime & PUlocationID & DOlocationID & SR_Flag"
   ]
  },
  {
   "cell_type": "markdown",
   "metadata": {},
   "source": [
    "### Processing functions"
   ]
  },
  {
   "cell_type": "code",
   "execution_count": null,
   "metadata": {},
   "outputs": [],
   "source": [
    "def outlier_delete(x):\n",
    "    try:\n",
    "        if int(x) in range(1,264):\n",
    "            return x\n",
    "        else:\n",
    "            return \"0\"\n",
    "    except:\n",
    "        return \"0\""
   ]
  },
  {
   "cell_type": "code",
   "execution_count": 6,
   "metadata": {},
   "outputs": [],
   "source": [
    "def mapper1_1(partitionID, rows):\n",
    "    if partitionID==0:\n",
    "        next(rows)\n",
    "    import csv\n",
    "    reader = csv.reader(rows)\n",
    "    for fields in reader:\n",
    "        yield((fields[1][:10], fields[2]),1)\n",
    "\n",
    "def mapper1_2(partitionID, rows):\n",
    "    if partitionID==0:\n",
    "        next(rows)\n",
    "    import csv\n",
    "    reader = csv.reader(rows)\n",
    "    for fields in reader:\n",
    "        yield((fields[1][:10], fields[3], fields[4]),1)\n",
    "        \n",
    "def mapper2_1(partition):\n",
    "    for element in partition:\n",
    "        yield(element[0][0], outlier_delete(element[0][1]), \"0\", element[1])\n",
    "        \n",
    "def mapper2_2(partition):\n",
    "    for element in partition:\n",
    "        yield(element[0][0], outlier_delete(element[0][1]), outlier_delete(element[0][2]), element[1])"
   ]
  },
  {
   "cell_type": "markdown",
   "metadata": {},
   "source": [
    "# Cleaning & Integrating"
   ]
  },
  {
   "cell_type": "code",
   "execution_count": 7,
   "metadata": {
    "scrolled": true
   },
   "outputs": [
    {
     "name": "stdout",
     "output_type": "stream",
     "text": [
      "2015-01\n",
      "2015-02\n",
      "2015-03\n",
      "2015-04\n",
      "2015-05\n",
      "2015-06\n",
      "2015-07\n",
      "2015-08\n",
      "2015-09\n",
      "2015-10\n",
      "2015-11\n",
      "2015-12\n",
      "2016-01\n",
      "2016-02\n",
      "2016-03\n",
      "2016-04\n",
      "2016-05\n",
      "2016-06\n",
      "2016-07\n",
      "2016-08\n",
      "2016-09\n",
      "2016-10\n",
      "2016-11\n",
      "2016-12\n",
      "2017-01\n",
      "2017-02\n",
      "2017-03\n",
      "2017-04\n",
      "2017-05\n",
      "2017-06\n",
      "2017-07\n",
      "2017-08\n",
      "2017-09\n",
      "2017-10\n",
      "2017-11\n",
      "2017-12\n",
      "2018-01\n",
      "2018-02\n",
      "2018-03\n",
      "2018-05\n",
      "2018-06\n",
      "CPU times: user 780 ms, sys: 168 ms, total: 948 ms\n",
      "Wall time: 34min 16s\n"
     ]
    }
   ],
   "source": [
    "%%time\n",
    "for i in year_month_list:\n",
    "    print(i)\n",
    "    path = \"data_fhv/fhv_\" + i + \".csv\"\n",
    "    if i == \"2015-01\":\n",
    "        rdd = sc.textFile(path)\\\n",
    "                 .mapPartitionsWithIndex(mapper1_1)\\\n",
    "                 .groupByKey().mapValues(sum)\\\n",
    "                 .mapPartitions(mapper2_1)\n",
    "        rdd.take(5)\n",
    "    else:\n",
    "        if int(i[:4])<2017:\n",
    "            temp = sc.textFile(path)\\\n",
    "                     .mapPartitionsWithIndex(mapper1_1)\\\n",
    "                     .groupByKey().mapValues(sum)\\\n",
    "                     .mapPartitions(mapper2_1)\n",
    "        else:\n",
    "            temp = sc.textFile(path)\\\n",
    "                     .mapPartitionsWithIndex(mapper1_2)\\\n",
    "                     .groupByKey().mapValues(sum)\\\n",
    "                     .mapPartitions(mapper2_2)\n",
    "        rdd = rdd.union(temp)\n",
    "        rdd.take(5)"
   ]
  },
  {
   "cell_type": "markdown",
   "metadata": {},
   "source": [
    "### Output CSV"
   ]
  },
  {
   "cell_type": "code",
   "execution_count": 8,
   "metadata": {},
   "outputs": [
    {
     "name": "stdout",
     "output_type": "stream",
     "text": [
      "CPU times: user 272 ms, sys: 72 ms, total: 344 ms\n",
      "Wall time: 3.02 s\n"
     ]
    }
   ],
   "source": [
    "%%time\n",
    "from pyspark import SparkContext\n",
    "df = spark.createDataFrame(rdd, ['date', 'PUlocationID', 'DOlocationID', 'count'])"
   ]
  },
  {
   "cell_type": "code",
   "execution_count": 9,
   "metadata": {},
   "outputs": [
    {
     "name": "stdout",
     "output_type": "stream",
     "text": [
      "+----------+------------+------------+-----+\n",
      "|      date|PUlocationID|DOlocationID|count|\n",
      "+----------+------------+------------+-----+\n",
      "|2015-01-01|           0|           0|10574|\n",
      "|2015-01-03|           0|           0|13391|\n",
      "|2015-01-04|           0|           0|13173|\n",
      "|2015-01-13|           0|           0|21628|\n",
      "|2015-01-15|           0|           0|24166|\n",
      "|2015-01-16|           0|           0|21363|\n",
      "|2015-01-19|           0|           0|14428|\n",
      "|2015-01-22|           0|           0|21827|\n",
      "|2015-01-28|           0|           0|19264|\n",
      "|2015-01-30|           0|           0|20839|\n",
      "|2015-01-01|         141|           0|  585|\n",
      "|2015-01-01|         191|           0|   27|\n",
      "|2015-01-01|         216|           0|   55|\n",
      "|2015-01-02|         181|           0|  512|\n",
      "|2015-01-02|         143|           0|  290|\n",
      "|2015-01-02|          13|           0|  421|\n",
      "|2015-01-02|           0|           0| 2506|\n",
      "|2015-01-02|          70|           0|   39|\n",
      "|2015-01-02|          65|           0|  168|\n",
      "|2015-01-02|         229|           0|  479|\n",
      "+----------+------------+------------+-----+\n",
      "only showing top 20 rows\n",
      "\n"
     ]
    }
   ],
   "source": [
    "df.show()"
   ]
  },
  {
   "cell_type": "code",
   "execution_count": 10,
   "metadata": {},
   "outputs": [
    {
     "name": "stdout",
     "output_type": "stream",
     "text": [
      "CPU times: user 12 ms, sys: 4 ms, total: 16 ms\n",
      "Wall time: 3min 12s\n"
     ]
    }
   ],
   "source": [
    "%%time\n",
    "df.coalesce(1).write.format('com.databricks.spark.csv').options(header='true').save('output_fhv')"
   ]
  },
  {
   "cell_type": "markdown",
   "metadata": {},
   "source": [
    "###  Check file"
   ]
  },
  {
   "cell_type": "code",
   "execution_count": 11,
   "metadata": {},
   "outputs": [],
   "source": [
    "filename = ! ls output_fhv | grep .csv"
   ]
  },
  {
   "cell_type": "code",
   "execution_count": 12,
   "metadata": {},
   "outputs": [
    {
     "name": "stdout",
     "output_type": "stream",
     "text": [
      "(12899039, 4)\n"
     ]
    }
   ],
   "source": [
    "import pandas as pd\n",
    "pddf = pd.read_csv('output_fhv/'+filename[0]).fillna(0)\n",
    "print(pddf.shape)"
   ]
  },
  {
   "cell_type": "code",
   "execution_count": 13,
   "metadata": {},
   "outputs": [
    {
     "data": {
      "text/html": [
       "<div>\n",
       "<style scoped>\n",
       "    .dataframe tbody tr th:only-of-type {\n",
       "        vertical-align: middle;\n",
       "    }\n",
       "\n",
       "    .dataframe tbody tr th {\n",
       "        vertical-align: top;\n",
       "    }\n",
       "\n",
       "    .dataframe thead th {\n",
       "        text-align: right;\n",
       "    }\n",
       "</style>\n",
       "<table border=\"1\" class=\"dataframe\">\n",
       "  <thead>\n",
       "    <tr style=\"text-align: right;\">\n",
       "      <th></th>\n",
       "      <th>date</th>\n",
       "      <th>PUlocationID</th>\n",
       "      <th>DOlocationID</th>\n",
       "      <th>count</th>\n",
       "    </tr>\n",
       "  </thead>\n",
       "  <tbody>\n",
       "    <tr>\n",
       "      <th>0</th>\n",
       "      <td>2015-01-01</td>\n",
       "      <td>0</td>\n",
       "      <td>0</td>\n",
       "      <td>10574</td>\n",
       "    </tr>\n",
       "    <tr>\n",
       "      <th>1</th>\n",
       "      <td>2015-01-03</td>\n",
       "      <td>0</td>\n",
       "      <td>0</td>\n",
       "      <td>13391</td>\n",
       "    </tr>\n",
       "    <tr>\n",
       "      <th>2</th>\n",
       "      <td>2015-01-04</td>\n",
       "      <td>0</td>\n",
       "      <td>0</td>\n",
       "      <td>13173</td>\n",
       "    </tr>\n",
       "    <tr>\n",
       "      <th>3</th>\n",
       "      <td>2015-01-13</td>\n",
       "      <td>0</td>\n",
       "      <td>0</td>\n",
       "      <td>21628</td>\n",
       "    </tr>\n",
       "    <tr>\n",
       "      <th>4</th>\n",
       "      <td>2015-01-15</td>\n",
       "      <td>0</td>\n",
       "      <td>0</td>\n",
       "      <td>24166</td>\n",
       "    </tr>\n",
       "  </tbody>\n",
       "</table>\n",
       "</div>"
      ],
      "text/plain": [
       "         date  PUlocationID  DOlocationID  count\n",
       "0  2015-01-01             0             0  10574\n",
       "1  2015-01-03             0             0  13391\n",
       "2  2015-01-04             0             0  13173\n",
       "3  2015-01-13             0             0  21628\n",
       "4  2015-01-15             0             0  24166"
      ]
     },
     "execution_count": 13,
     "metadata": {},
     "output_type": "execute_result"
    }
   ],
   "source": [
    "pddf.head()"
   ]
  },
  {
   "cell_type": "code",
   "execution_count": 14,
   "metadata": {},
   "outputs": [
    {
     "data": {
      "text/html": [
       "<div>\n",
       "<style scoped>\n",
       "    .dataframe tbody tr th:only-of-type {\n",
       "        vertical-align: middle;\n",
       "    }\n",
       "\n",
       "    .dataframe tbody tr th {\n",
       "        vertical-align: top;\n",
       "    }\n",
       "\n",
       "    .dataframe thead th {\n",
       "        text-align: right;\n",
       "    }\n",
       "</style>\n",
       "<table border=\"1\" class=\"dataframe\">\n",
       "  <thead>\n",
       "    <tr style=\"text-align: right;\">\n",
       "      <th></th>\n",
       "      <th>date</th>\n",
       "      <th>PUlocationID</th>\n",
       "      <th>DOlocationID</th>\n",
       "      <th>count</th>\n",
       "    </tr>\n",
       "  </thead>\n",
       "  <tbody>\n",
       "    <tr>\n",
       "      <th>12899034</th>\n",
       "      <td>2018-06-08</td>\n",
       "      <td>263</td>\n",
       "      <td>71</td>\n",
       "      <td>1</td>\n",
       "    </tr>\n",
       "    <tr>\n",
       "      <th>12899035</th>\n",
       "      <td>2018-06-06</td>\n",
       "      <td>174</td>\n",
       "      <td>14</td>\n",
       "      <td>1</td>\n",
       "    </tr>\n",
       "    <tr>\n",
       "      <th>12899036</th>\n",
       "      <td>2018-06-06</td>\n",
       "      <td>232</td>\n",
       "      <td>174</td>\n",
       "      <td>1</td>\n",
       "    </tr>\n",
       "    <tr>\n",
       "      <th>12899037</th>\n",
       "      <td>2018-06-29</td>\n",
       "      <td>20</td>\n",
       "      <td>25</td>\n",
       "      <td>1</td>\n",
       "    </tr>\n",
       "    <tr>\n",
       "      <th>12899038</th>\n",
       "      <td>2018-06-20</td>\n",
       "      <td>158</td>\n",
       "      <td>10</td>\n",
       "      <td>1</td>\n",
       "    </tr>\n",
       "  </tbody>\n",
       "</table>\n",
       "</div>"
      ],
      "text/plain": [
       "                date  PUlocationID  DOlocationID  count\n",
       "12899034  2018-06-08           263            71      1\n",
       "12899035  2018-06-06           174            14      1\n",
       "12899036  2018-06-06           232           174      1\n",
       "12899037  2018-06-29            20            25      1\n",
       "12899038  2018-06-20           158            10      1"
      ]
     },
     "execution_count": 14,
     "metadata": {},
     "output_type": "execute_result"
    }
   ],
   "source": [
    "pddf.tail()"
   ]
  },
  {
   "cell_type": "code",
   "execution_count": null,
   "metadata": {},
   "outputs": [],
   "source": []
  }
 ],
 "metadata": {
  "kernelspec": {
   "display_name": "py3",
   "language": "python",
   "name": "py3"
  },
  "language_info": {
   "codemirror_mode": {
    "name": "ipython",
    "version": 3
   },
   "file_extension": ".py",
   "mimetype": "text/x-python",
   "name": "python",
   "nbconvert_exporter": "python",
   "pygments_lexer": "ipython3",
   "version": "3.7.2"
  },
  "toc": {
   "base_numbering": 1,
   "nav_menu": {},
   "number_sections": true,
   "sideBar": true,
   "skip_h1_title": false,
   "title_cell": "Table of Contents",
   "title_sidebar": "Contents",
   "toc_cell": false,
   "toc_position": {},
   "toc_section_display": true,
   "toc_window_display": false
  }
 },
 "nbformat": 4,
 "nbformat_minor": 2
}
