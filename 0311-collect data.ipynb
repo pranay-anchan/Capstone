{
 "cells": [
  {
   "cell_type": "code",
   "execution_count": 1,
   "metadata": {
    "ExecuteTime": {
     "end_time": "2019-03-11T23:33:58.360079Z",
     "start_time": "2019-03-11T23:33:58.355088Z"
    }
   },
   "outputs": [],
   "source": [
    "import os\n",
    "import pandas\n",
    "import numpy"
   ]
  },
  {
   "cell_type": "markdown",
   "metadata": {},
   "source": [
    "# FHV"
   ]
  },
  {
   "cell_type": "markdown",
   "metadata": {},
   "source": [
    "https://s3.amazonaws.com/nyc-tlc/trip+data/fhv_tripdata_2018-06.csv  \n",
    "https://s3.amazonaws.com/nyc-tlc/trip+data/fhv_tripdata_2015-01.csv  "
   ]
  },
  {
   "cell_type": "markdown",
   "metadata": {},
   "source": [
    "## download file"
   ]
  },
  {
   "cell_type": "code",
   "execution_count": 2,
   "metadata": {},
   "outputs": [],
   "source": [
    "#  Generate a year-month list with a start year-month and an end year-month\n",
    "def generate_year_month_list(start, end):\n",
    "    monthlist = []\n",
    "    for year in range(int(start[:4]),int(end[:4])+1):\n",
    "        for month in range(1,13):\n",
    "            if month >= 10:\n",
    "                temp = str(year) + \"-\" + str(month) \n",
    "            else:\n",
    "                temp = str(year) + \"-\" + '0' + str(month) \n",
    "            monthlist.append(temp)\n",
    "    if int(end[-2:]) == 12:\n",
    "        return monthlist[int(start[-2:])-1:]\n",
    "    else:\n",
    "        return monthlist[int(start[-2:])-1: int(end[-2:])-12]"
   ]
  },
  {
   "cell_type": "code",
   "execution_count": 3,
   "metadata": {
    "scrolled": true
   },
   "outputs": [
    {
     "data": {
      "text/plain": [
       "['2015-01',\n",
       " '2015-02',\n",
       " '2015-03',\n",
       " '2015-04',\n",
       " '2015-05',\n",
       " '2015-06',\n",
       " '2015-07',\n",
       " '2015-08',\n",
       " '2015-09',\n",
       " '2015-10',\n",
       " '2015-11',\n",
       " '2015-12',\n",
       " '2016-01',\n",
       " '2016-02',\n",
       " '2016-03',\n",
       " '2016-04',\n",
       " '2016-05',\n",
       " '2016-06',\n",
       " '2016-07',\n",
       " '2016-08',\n",
       " '2016-09',\n",
       " '2016-10',\n",
       " '2016-11',\n",
       " '2016-12',\n",
       " '2017-01',\n",
       " '2017-02',\n",
       " '2017-03',\n",
       " '2017-04',\n",
       " '2017-05',\n",
       " '2017-06',\n",
       " '2017-07',\n",
       " '2017-08',\n",
       " '2017-09',\n",
       " '2017-10',\n",
       " '2017-11',\n",
       " '2017-12',\n",
       " '2018-01',\n",
       " '2018-02',\n",
       " '2018-03',\n",
       " '2018-04',\n",
       " '2018-05',\n",
       " '2018-06']"
      ]
     },
     "execution_count": 3,
     "metadata": {},
     "output_type": "execute_result"
    }
   ],
   "source": [
    "year_month_list = generate_year_month_list(\"2015-01\",\"2018-06\")\n",
    "year_month_list"
   ]
  },
  {
   "cell_type": "code",
   "execution_count": 4,
   "metadata": {
    "ExecuteTime": {
     "end_time": "2019-03-11T23:56:19.570619Z",
     "start_time": "2019-03-11T23:56:19.565504Z"
    }
   },
   "outputs": [],
   "source": [
    "def getFHVData(year_month):\n",
    "    filename = \"fhv_\" + year_month + \".csv\"\n",
    "    if not os.path.isfile(\"data_fhv/\" + filename):\n",
    "        os.system(\"curl https://s3.amazonaws.com/nyc-tlc/trip+data/fhv_tripdata_\" + year_month + \".csv\" + \"> \" + filename)\n",
    "        os.system(\"mv \" + filename + \" data_fhv\")\n",
    "        print(\"file downloading completed\")\n",
    "    else:\n",
    "        print(\"file in place, you can continue\")"
   ]
  },
  {
   "cell_type": "code",
   "execution_count": 5,
   "metadata": {},
   "outputs": [
    {
     "name": "stdout",
     "output_type": "stream",
     "text": [
      "file in place, you can continue\n"
     ]
    }
   ],
   "source": [
    "getFHVData(year_month_list[0])"
   ]
  },
  {
   "cell_type": "code",
   "execution_count": 6,
   "metadata": {
    "scrolled": true
   },
   "outputs": [
    {
     "name": "stdout",
     "output_type": "stream",
     "text": [
      "2015-01\n",
      "file in place, you can continue\n",
      "2015-02\n",
      "file in place, you can continue\n",
      "2015-03\n",
      "file in place, you can continue\n",
      "2015-04\n",
      "file in place, you can continue\n",
      "2015-05\n",
      "file in place, you can continue\n",
      "2015-06\n",
      "file in place, you can continue\n",
      "2015-07\n",
      "file in place, you can continue\n",
      "2015-08\n",
      "file in place, you can continue\n",
      "2015-09\n",
      "file in place, you can continue\n",
      "2015-10\n",
      "file in place, you can continue\n",
      "2015-11\n",
      "file in place, you can continue\n",
      "2015-12\n",
      "file in place, you can continue\n",
      "2016-01\n",
      "file in place, you can continue\n",
      "2016-02\n",
      "file in place, you can continue\n",
      "2016-03\n",
      "file in place, you can continue\n",
      "2016-04\n",
      "file in place, you can continue\n",
      "2016-05\n",
      "file in place, you can continue\n",
      "2016-06\n",
      "file in place, you can continue\n",
      "2016-07\n",
      "file in place, you can continue\n",
      "2016-08\n",
      "file in place, you can continue\n",
      "2016-09\n",
      "file in place, you can continue\n",
      "2016-10\n",
      "file in place, you can continue\n",
      "2016-11\n",
      "file in place, you can continue\n",
      "2016-12\n",
      "file in place, you can continue\n",
      "2017-01\n",
      "file in place, you can continue\n",
      "2017-02\n",
      "file in place, you can continue\n",
      "2017-03\n",
      "file in place, you can continue\n",
      "2017-04\n",
      "file in place, you can continue\n",
      "2017-05\n",
      "file in place, you can continue\n",
      "2017-06\n",
      "file in place, you can continue\n",
      "2017-07\n",
      "file in place, you can continue\n",
      "2017-08\n",
      "file in place, you can continue\n",
      "2017-09\n",
      "file in place, you can continue\n",
      "2017-10\n",
      "file in place, you can continue\n",
      "2017-11\n",
      "file in place, you can continue\n",
      "2017-12\n",
      "file in place, you can continue\n",
      "2018-01\n",
      "file in place, you can continue\n",
      "2018-02\n",
      "file in place, you can continue\n",
      "2018-03\n",
      "file in place, you can continue\n",
      "2018-04\n",
      "file in place, you can continue\n",
      "2018-05\n",
      "file in place, you can continue\n",
      "2018-06\n",
      "file in place, you can continue\n",
      "CPU times: user 4 ms, sys: 0 ns, total: 4 ms\n",
      "Wall time: 12.4 ms\n"
     ]
    }
   ],
   "source": [
    "%%time\n",
    "for i in year_month_list:\n",
    "    print(i)\n",
    "    getFHVData(i)"
   ]
  },
  {
   "cell_type": "markdown",
   "metadata": {},
   "source": [
    "## check file"
   ]
  },
  {
   "cell_type": "code",
   "execution_count": 7,
   "metadata": {},
   "outputs": [
    {
     "name": "stdout",
     "output_type": "stream",
     "text": [
      "(2746033, 3)\n"
     ]
    },
    {
     "data": {
      "text/html": [
       "<div>\n",
       "<table border=\"1\" class=\"dataframe\">\n",
       "  <thead>\n",
       "    <tr style=\"text-align: right;\">\n",
       "      <th></th>\n",
       "      <th>Dispatching_base_num</th>\n",
       "      <th>Pickup_date</th>\n",
       "      <th>locationID</th>\n",
       "    </tr>\n",
       "  </thead>\n",
       "  <tbody>\n",
       "    <tr>\n",
       "      <th>0</th>\n",
       "      <td>B00013</td>\n",
       "      <td>2015-01-01 00:30:00</td>\n",
       "      <td>NaN</td>\n",
       "    </tr>\n",
       "    <tr>\n",
       "      <th>1</th>\n",
       "      <td>B00013</td>\n",
       "      <td>2015-01-01 01:22:00</td>\n",
       "      <td>NaN</td>\n",
       "    </tr>\n",
       "    <tr>\n",
       "      <th>2</th>\n",
       "      <td>B00013</td>\n",
       "      <td>2015-01-01 01:23:00</td>\n",
       "      <td>NaN</td>\n",
       "    </tr>\n",
       "    <tr>\n",
       "      <th>3</th>\n",
       "      <td>B00013</td>\n",
       "      <td>2015-01-01 01:44:00</td>\n",
       "      <td>NaN</td>\n",
       "    </tr>\n",
       "    <tr>\n",
       "      <th>4</th>\n",
       "      <td>B00013</td>\n",
       "      <td>2015-01-01 02:00:00</td>\n",
       "      <td>NaN</td>\n",
       "    </tr>\n",
       "  </tbody>\n",
       "</table>\n",
       "</div>"
      ],
      "text/plain": [
       "  Dispatching_base_num          Pickup_date  locationID\n",
       "0               B00013  2015-01-01 00:30:00         NaN\n",
       "1               B00013  2015-01-01 01:22:00         NaN\n",
       "2               B00013  2015-01-01 01:23:00         NaN\n",
       "3               B00013  2015-01-01 01:44:00         NaN\n",
       "4               B00013  2015-01-01 02:00:00         NaN"
      ]
     },
     "execution_count": 7,
     "metadata": {},
     "output_type": "execute_result"
    }
   ],
   "source": [
    "fhv = pandas.read_csv(\"data_fhv/fhv_2015-01.csv\")\n",
    "print(fhv.shape)\n",
    "fhv.head()"
   ]
  },
  {
   "cell_type": "markdown",
   "metadata": {},
   "source": [
    "# Parking Tickets"
   ]
  },
  {
   "cell_type": "markdown",
   "metadata": {},
   "source": [
    "https://data.cityofnewyork.us/api/views/pvqr-7yc4/rows.csv?accessType=DOWNLOAD  \n",
    "https://data.cityofnewyork.us/api/views/a5td-mswe/rows.csv?accessType=DOWNLOAD  \n",
    "https://data.cityofnewyork.us/api/views/2bnn-yakx/rows.csv?accessType=DOWNLOAD  \n",
    "https://data.cityofnewyork.us/api/views/kiv2-tbus/rows.csv?accessType=DOWNLOAD  \n",
    "https://data.cityofnewyork.us/api/views/c284-tqph/rows.csv?accessType=DOWNLOAD  \n",
    "https://data.cityofnewyork.us/api/views/jt7v-77mi/rows.csv?accessType=DOWNLOAD"
   ]
  },
  {
   "cell_type": "markdown",
   "metadata": {},
   "source": [
    "## download file"
   ]
  },
  {
   "cell_type": "code",
   "execution_count": 8,
   "metadata": {
    "ExecuteTime": {
     "end_time": "2019-03-11T23:56:19.570619Z",
     "start_time": "2019-03-11T23:56:19.565504Z"
    }
   },
   "outputs": [],
   "source": [
    "def getTicketData(year):\n",
    "    datastring = datastrings[year]\n",
    "    filename = \"tickets_\" + year + \".csv\"\n",
    "    if not os.path.isfile(\"data_tickets/\" + filename):\n",
    "        os.system(\"curl https://data.cityofnewyork.us/api/views/\" + datastring + \"/rows.csv?accessType=DOWNLOAD\" + \"> \" + filename)\n",
    "        os.system(\"mv \" + filename + \" data_tickets\")\n",
    "        print(\"file downloading completed\")\n",
    "    else:\n",
    "        print(\"file in place, you can continue\")"
   ]
  },
  {
   "cell_type": "code",
   "execution_count": 9,
   "metadata": {
    "ExecuteTime": {
     "end_time": "2019-03-12T00:00:22.776973Z",
     "start_time": "2019-03-12T00:00:22.769111Z"
    }
   },
   "outputs": [],
   "source": [
    "datastrings = {\"2019\": \"pvqr-7yc4\", \n",
    "              \"2018\": \"a5td-mswe\", \n",
    "              \"2017\": \"2bnn-yakx\", \n",
    "              \"2016\": \"kiv2-tbus\", \n",
    "              \"2015\": \"c284-tqph\", \n",
    "              \"2014\": \"jt7v-77mi\"}"
   ]
  },
  {
   "cell_type": "code",
   "execution_count": 10,
   "metadata": {
    "ExecuteTime": {
     "start_time": "2019-03-12T00:01:37.579Z"
    },
    "scrolled": true
   },
   "outputs": [
    {
     "name": "stdout",
     "output_type": "stream",
     "text": [
      "2017\n",
      "file in place, you can continue\n",
      "2018\n",
      "file in place, you can continue\n",
      "2016\n",
      "file in place, you can continue\n",
      "2014\n",
      "file in place, you can continue\n",
      "2019\n",
      "file in place, you can continue\n",
      "2015\n",
      "file in place, you can continue\n",
      "CPU times: user 4 ms, sys: 0 ns, total: 4 ms\n",
      "Wall time: 2.32 ms\n"
     ]
    }
   ],
   "source": [
    "%%time\n",
    "for i in datastrings.keys():\n",
    "    print(i)\n",
    "    getTicketData(i)"
   ]
  },
  {
   "cell_type": "markdown",
   "metadata": {},
   "source": [
    "## check file"
   ]
  },
  {
   "cell_type": "markdown",
   "metadata": {},
   "source": [
    "%%time\n",
    "ticket = pandas.read_csv(\"data_tickets/tickets_2015.csv\")\n",
    "print(ticket.shape)\n",
    "ticket.head()"
   ]
  }
 ],
 "metadata": {
  "kernelspec": {
   "display_name": "PUI2016_Python3",
   "language": "python",
   "name": "pui2016_python3"
  },
  "language_info": {
   "codemirror_mode": {
    "name": "ipython",
    "version": 3
   },
   "file_extension": ".py",
   "mimetype": "text/x-python",
   "name": "python",
   "nbconvert_exporter": "python",
   "pygments_lexer": "ipython3",
   "version": "3.5.4"
  },
  "toc": {
   "base_numbering": 1,
   "nav_menu": {},
   "number_sections": true,
   "sideBar": true,
   "skip_h1_title": false,
   "title_cell": "Table of Contents",
   "title_sidebar": "Contents",
   "toc_cell": false,
   "toc_position": {},
   "toc_section_display": true,
   "toc_window_display": false
  }
 },
 "nbformat": 4,
 "nbformat_minor": 2
}
